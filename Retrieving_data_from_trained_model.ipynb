{
  "nbformat": 4,
  "nbformat_minor": 0,
  "metadata": {
    "colab": {
      "name": "Retrieving data from trained model.ipynb",
      "provenance": [],
      "mount_file_id": "1Ag0TqpXVSZ7pGy22mHDOcljIXvTXJb9i",
      "authorship_tag": "ABX9TyNUzfPYY7ZVtkuxaw0c4EQM",
      "include_colab_link": true
    },
    "kernelspec": {
      "name": "python3",
      "display_name": "Python 3"
    },
    "language_info": {
      "name": "python"
    }
  },
  "cells": [
    {
      "cell_type": "markdown",
      "metadata": {
        "id": "view-in-github",
        "colab_type": "text"
      },
      "source": [
        "<a href=\"https://colab.research.google.com/github/suwanii/FYP/blob/main/Retrieving_data_from_trained_model.ipynb\" target=\"_parent\"><img src=\"https://colab.research.google.com/assets/colab-badge.svg\" alt=\"Open In Colab\"/></a>"
      ]
    },
    {
      "cell_type": "code",
      "metadata": {
        "colab": {
          "base_uri": "https://localhost:8080/",
          "height": 1000
        },
        "id": "9vR2mUHdzfbQ",
        "outputId": "095f056f-e047-49ba-d929-3fd2d68eb58a"
      },
      "source": [
        "pip install spacy==3.0.6"
      ],
      "execution_count": 4,
      "outputs": [
        {
          "output_type": "stream",
          "name": "stdout",
          "text": [
            "Collecting spacy==3.0.6\n",
            "  Downloading spacy-3.0.6-cp37-cp37m-manylinux2014_x86_64.whl (12.8 MB)\n",
            "\u001b[K     |████████████████████████████████| 12.8 MB 68 kB/s \n",
            "\u001b[?25hRequirement already satisfied: requests<3.0.0,>=2.13.0 in /usr/local/lib/python3.7/dist-packages (from spacy==3.0.6) (2.23.0)\n",
            "Requirement already satisfied: blis<0.8.0,>=0.4.0 in /usr/local/lib/python3.7/dist-packages (from spacy==3.0.6) (0.4.1)\n",
            "Requirement already satisfied: preshed<3.1.0,>=3.0.2 in /usr/local/lib/python3.7/dist-packages (from spacy==3.0.6) (3.0.5)\n",
            "Collecting srsly<3.0.0,>=2.4.1\n",
            "  Downloading srsly-2.4.1-cp37-cp37m-manylinux2014_x86_64.whl (456 kB)\n",
            "\u001b[K     |████████████████████████████████| 456 kB 53.8 MB/s \n",
            "\u001b[?25hCollecting typer<0.4.0,>=0.3.0\n",
            "  Downloading typer-0.3.2-py3-none-any.whl (21 kB)\n",
            "Collecting thinc<8.1.0,>=8.0.3\n",
            "  Downloading thinc-8.0.9-cp37-cp37m-manylinux_2_17_x86_64.manylinux2014_x86_64.whl (623 kB)\n",
            "\u001b[K     |████████████████████████████████| 623 kB 70.0 MB/s \n",
            "\u001b[?25hCollecting pydantic<1.8.0,>=1.7.1\n",
            "  Downloading pydantic-1.7.4-cp37-cp37m-manylinux2014_x86_64.whl (9.1 MB)\n",
            "\u001b[K     |████████████████████████████████| 9.1 MB 18.4 MB/s \n",
            "\u001b[?25hRequirement already satisfied: typing-extensions<4.0.0.0,>=3.7.4 in /usr/local/lib/python3.7/dist-packages (from spacy==3.0.6) (3.7.4.3)\n",
            "Collecting catalogue<2.1.0,>=2.0.3\n",
            "  Downloading catalogue-2.0.6-py3-none-any.whl (17 kB)\n",
            "Requirement already satisfied: tqdm<5.0.0,>=4.38.0 in /usr/local/lib/python3.7/dist-packages (from spacy==3.0.6) (4.62.0)\n",
            "Requirement already satisfied: murmurhash<1.1.0,>=0.28.0 in /usr/local/lib/python3.7/dist-packages (from spacy==3.0.6) (1.0.5)\n",
            "Collecting spacy-legacy<3.1.0,>=3.0.4\n",
            "  Downloading spacy_legacy-3.0.8-py2.py3-none-any.whl (14 kB)\n",
            "Requirement already satisfied: packaging>=20.0 in /usr/local/lib/python3.7/dist-packages (from spacy==3.0.6) (21.0)\n",
            "Requirement already satisfied: setuptools in /usr/local/lib/python3.7/dist-packages (from spacy==3.0.6) (57.4.0)\n",
            "Requirement already satisfied: cymem<2.1.0,>=2.0.2 in /usr/local/lib/python3.7/dist-packages (from spacy==3.0.6) (2.0.5)\n",
            "Requirement already satisfied: jinja2 in /usr/local/lib/python3.7/dist-packages (from spacy==3.0.6) (2.11.3)\n",
            "Requirement already satisfied: wasabi<1.1.0,>=0.8.1 in /usr/local/lib/python3.7/dist-packages (from spacy==3.0.6) (0.8.2)\n",
            "Collecting pathy>=0.3.5\n",
            "  Downloading pathy-0.6.0-py3-none-any.whl (42 kB)\n",
            "\u001b[K     |████████████████████████████████| 42 kB 1.3 MB/s \n",
            "\u001b[?25hRequirement already satisfied: numpy>=1.15.0 in /usr/local/lib/python3.7/dist-packages (from spacy==3.0.6) (1.19.5)\n",
            "Requirement already satisfied: zipp>=0.5 in /usr/local/lib/python3.7/dist-packages (from catalogue<2.1.0,>=2.0.3->spacy==3.0.6) (3.5.0)\n",
            "Requirement already satisfied: pyparsing>=2.0.2 in /usr/local/lib/python3.7/dist-packages (from packaging>=20.0->spacy==3.0.6) (2.4.7)\n",
            "Requirement already satisfied: smart-open<6.0.0,>=5.0.0 in /usr/local/lib/python3.7/dist-packages (from pathy>=0.3.5->spacy==3.0.6) (5.1.0)\n",
            "Requirement already satisfied: certifi>=2017.4.17 in /usr/local/lib/python3.7/dist-packages (from requests<3.0.0,>=2.13.0->spacy==3.0.6) (2021.5.30)\n",
            "Requirement already satisfied: idna<3,>=2.5 in /usr/local/lib/python3.7/dist-packages (from requests<3.0.0,>=2.13.0->spacy==3.0.6) (2.10)\n",
            "Requirement already satisfied: chardet<4,>=3.0.2 in /usr/local/lib/python3.7/dist-packages (from requests<3.0.0,>=2.13.0->spacy==3.0.6) (3.0.4)\n",
            "Requirement already satisfied: urllib3!=1.25.0,!=1.25.1,<1.26,>=1.21.1 in /usr/local/lib/python3.7/dist-packages (from requests<3.0.0,>=2.13.0->spacy==3.0.6) (1.24.3)\n",
            "Requirement already satisfied: click<7.2.0,>=7.1.1 in /usr/local/lib/python3.7/dist-packages (from typer<0.4.0,>=0.3.0->spacy==3.0.6) (7.1.2)\n",
            "Requirement already satisfied: MarkupSafe>=0.23 in /usr/local/lib/python3.7/dist-packages (from jinja2->spacy==3.0.6) (2.0.1)\n",
            "Installing collected packages: catalogue, typer, srsly, pydantic, thinc, spacy-legacy, pathy, spacy\n",
            "  Attempting uninstall: catalogue\n",
            "    Found existing installation: catalogue 1.0.0\n",
            "    Uninstalling catalogue-1.0.0:\n",
            "      Successfully uninstalled catalogue-1.0.0\n",
            "  Attempting uninstall: srsly\n",
            "    Found existing installation: srsly 1.0.5\n",
            "    Uninstalling srsly-1.0.5:\n",
            "      Successfully uninstalled srsly-1.0.5\n",
            "  Attempting uninstall: thinc\n",
            "    Found existing installation: thinc 7.4.0\n",
            "    Uninstalling thinc-7.4.0:\n",
            "      Successfully uninstalled thinc-7.4.0\n",
            "  Attempting uninstall: spacy\n",
            "    Found existing installation: spacy 2.2.4\n",
            "    Uninstalling spacy-2.2.4:\n",
            "      Successfully uninstalled spacy-2.2.4\n",
            "Successfully installed catalogue-2.0.6 pathy-0.6.0 pydantic-1.7.4 spacy-3.0.6 spacy-legacy-3.0.8 srsly-2.4.1 thinc-8.0.9 typer-0.3.2\n"
          ]
        },
        {
          "output_type": "display_data",
          "data": {
            "application/vnd.colab-display-data+json": {
              "pip_warning": {
                "packages": [
                  "catalogue",
                  "spacy",
                  "srsly",
                  "thinc"
                ]
              }
            }
          },
          "metadata": {}
        }
      ]
    },
    {
      "cell_type": "code",
      "metadata": {
        "colab": {
          "base_uri": "https://localhost:8080/"
        },
        "id": "JgYdwDCXzd9j",
        "outputId": "2e692362-5e70-4a38-af11-371e4f7a0693"
      },
      "source": [
        "pip install spacy[transformers]"
      ],
      "execution_count": 1,
      "outputs": [
        {
          "output_type": "stream",
          "name": "stdout",
          "text": [
            "Requirement already satisfied: spacy[transformers] in /usr/local/lib/python3.7/dist-packages (3.0.6)\n",
            "Requirement already satisfied: preshed<3.1.0,>=3.0.2 in /usr/local/lib/python3.7/dist-packages (from spacy[transformers]) (3.0.5)\n",
            "Requirement already satisfied: typer<0.4.0,>=0.3.0 in /usr/local/lib/python3.7/dist-packages (from spacy[transformers]) (0.3.2)\n",
            "Requirement already satisfied: spacy-legacy<3.1.0,>=3.0.4 in /usr/local/lib/python3.7/dist-packages (from spacy[transformers]) (3.0.8)\n",
            "Requirement already satisfied: cymem<2.1.0,>=2.0.2 in /usr/local/lib/python3.7/dist-packages (from spacy[transformers]) (2.0.5)\n",
            "Requirement already satisfied: tqdm<5.0.0,>=4.38.0 in /usr/local/lib/python3.7/dist-packages (from spacy[transformers]) (4.62.0)\n",
            "Requirement already satisfied: murmurhash<1.1.0,>=0.28.0 in /usr/local/lib/python3.7/dist-packages (from spacy[transformers]) (1.0.5)\n",
            "Requirement already satisfied: wasabi<1.1.0,>=0.8.1 in /usr/local/lib/python3.7/dist-packages (from spacy[transformers]) (0.8.2)\n",
            "Requirement already satisfied: requests<3.0.0,>=2.13.0 in /usr/local/lib/python3.7/dist-packages (from spacy[transformers]) (2.23.0)\n",
            "Requirement already satisfied: blis<0.8.0,>=0.4.0 in /usr/local/lib/python3.7/dist-packages (from spacy[transformers]) (0.4.1)\n",
            "Requirement already satisfied: typing-extensions<4.0.0.0,>=3.7.4 in /usr/local/lib/python3.7/dist-packages (from spacy[transformers]) (3.7.4.3)\n",
            "Requirement already satisfied: srsly<3.0.0,>=2.4.1 in /usr/local/lib/python3.7/dist-packages (from spacy[transformers]) (2.4.1)\n",
            "Requirement already satisfied: packaging>=20.0 in /usr/local/lib/python3.7/dist-packages (from spacy[transformers]) (21.0)\n",
            "Requirement already satisfied: jinja2 in /usr/local/lib/python3.7/dist-packages (from spacy[transformers]) (2.11.3)\n",
            "Requirement already satisfied: pathy>=0.3.5 in /usr/local/lib/python3.7/dist-packages (from spacy[transformers]) (0.6.0)\n",
            "Requirement already satisfied: numpy>=1.15.0 in /usr/local/lib/python3.7/dist-packages (from spacy[transformers]) (1.19.5)\n",
            "Requirement already satisfied: thinc<8.1.0,>=8.0.3 in /usr/local/lib/python3.7/dist-packages (from spacy[transformers]) (8.0.9)\n",
            "Requirement already satisfied: setuptools in /usr/local/lib/python3.7/dist-packages (from spacy[transformers]) (57.4.0)\n",
            "Requirement already satisfied: pydantic<1.8.0,>=1.7.1 in /usr/local/lib/python3.7/dist-packages (from spacy[transformers]) (1.7.4)\n",
            "Requirement already satisfied: catalogue<2.1.0,>=2.0.3 in /usr/local/lib/python3.7/dist-packages (from spacy[transformers]) (2.0.6)\n",
            "Requirement already satisfied: spacy-transformers<1.1.0,>=1.0.1 in /usr/local/lib/python3.7/dist-packages (from spacy[transformers]) (1.0.4)\n",
            "Requirement already satisfied: zipp>=0.5 in /usr/local/lib/python3.7/dist-packages (from catalogue<2.1.0,>=2.0.3->spacy[transformers]) (3.5.0)\n",
            "Requirement already satisfied: pyparsing>=2.0.2 in /usr/local/lib/python3.7/dist-packages (from packaging>=20.0->spacy[transformers]) (2.4.7)\n",
            "Requirement already satisfied: smart-open<6.0.0,>=5.0.0 in /usr/local/lib/python3.7/dist-packages (from pathy>=0.3.5->spacy[transformers]) (5.1.0)\n",
            "Requirement already satisfied: urllib3!=1.25.0,!=1.25.1,<1.26,>=1.21.1 in /usr/local/lib/python3.7/dist-packages (from requests<3.0.0,>=2.13.0->spacy[transformers]) (1.24.3)\n",
            "Requirement already satisfied: certifi>=2017.4.17 in /usr/local/lib/python3.7/dist-packages (from requests<3.0.0,>=2.13.0->spacy[transformers]) (2021.5.30)\n",
            "Requirement already satisfied: chardet<4,>=3.0.2 in /usr/local/lib/python3.7/dist-packages (from requests<3.0.0,>=2.13.0->spacy[transformers]) (3.0.4)\n",
            "Requirement already satisfied: idna<3,>=2.5 in /usr/local/lib/python3.7/dist-packages (from requests<3.0.0,>=2.13.0->spacy[transformers]) (2.10)\n",
            "Requirement already satisfied: torch>=1.5.0 in /usr/local/lib/python3.7/dist-packages (from spacy-transformers<1.1.0,>=1.0.1->spacy[transformers]) (1.9.0+cu102)\n",
            "Requirement already satisfied: spacy-alignments<1.0.0,>=0.7.2 in /usr/local/lib/python3.7/dist-packages (from spacy-transformers<1.1.0,>=1.0.1->spacy[transformers]) (0.8.3)\n",
            "Requirement already satisfied: transformers<4.10.0,>=3.4.0 in /usr/local/lib/python3.7/dist-packages (from spacy-transformers<1.1.0,>=1.0.1->spacy[transformers]) (4.9.2)\n",
            "Requirement already satisfied: pyyaml>=5.1 in /usr/local/lib/python3.7/dist-packages (from transformers<4.10.0,>=3.4.0->spacy-transformers<1.1.0,>=1.0.1->spacy[transformers]) (5.4.1)\n",
            "Requirement already satisfied: sacremoses in /usr/local/lib/python3.7/dist-packages (from transformers<4.10.0,>=3.4.0->spacy-transformers<1.1.0,>=1.0.1->spacy[transformers]) (0.0.45)\n",
            "Requirement already satisfied: regex!=2019.12.17 in /usr/local/lib/python3.7/dist-packages (from transformers<4.10.0,>=3.4.0->spacy-transformers<1.1.0,>=1.0.1->spacy[transformers]) (2019.12.20)\n",
            "Requirement already satisfied: importlib-metadata in /usr/local/lib/python3.7/dist-packages (from transformers<4.10.0,>=3.4.0->spacy-transformers<1.1.0,>=1.0.1->spacy[transformers]) (4.6.4)\n",
            "Requirement already satisfied: huggingface-hub==0.0.12 in /usr/local/lib/python3.7/dist-packages (from transformers<4.10.0,>=3.4.0->spacy-transformers<1.1.0,>=1.0.1->spacy[transformers]) (0.0.12)\n",
            "Requirement already satisfied: filelock in /usr/local/lib/python3.7/dist-packages (from transformers<4.10.0,>=3.4.0->spacy-transformers<1.1.0,>=1.0.1->spacy[transformers]) (3.0.12)\n",
            "Requirement already satisfied: tokenizers<0.11,>=0.10.1 in /usr/local/lib/python3.7/dist-packages (from transformers<4.10.0,>=3.4.0->spacy-transformers<1.1.0,>=1.0.1->spacy[transformers]) (0.10.3)\n",
            "Requirement already satisfied: click<7.2.0,>=7.1.1 in /usr/local/lib/python3.7/dist-packages (from typer<0.4.0,>=0.3.0->spacy[transformers]) (7.1.2)\n",
            "Requirement already satisfied: MarkupSafe>=0.23 in /usr/local/lib/python3.7/dist-packages (from jinja2->spacy[transformers]) (2.0.1)\n",
            "Requirement already satisfied: six in /usr/local/lib/python3.7/dist-packages (from sacremoses->transformers<4.10.0,>=3.4.0->spacy-transformers<1.1.0,>=1.0.1->spacy[transformers]) (1.15.0)\n",
            "Requirement already satisfied: joblib in /usr/local/lib/python3.7/dist-packages (from sacremoses->transformers<4.10.0,>=3.4.0->spacy-transformers<1.1.0,>=1.0.1->spacy[transformers]) (1.0.1)\n"
          ]
        }
      ]
    },
    {
      "cell_type": "code",
      "metadata": {
        "id": "r2Qo-7ARy8y3"
      },
      "source": [
        "import pandas as pd\n",
        "from tqdm import tqdm\n",
        "import spacy\n",
        "from spacy.tokens import DocBin\n",
        "import json\n",
        "import spacy_transformers"
      ],
      "execution_count": null,
      "outputs": []
    },
    {
      "cell_type": "code",
      "metadata": {
        "id": "cWjx8-wYzH0M"
      },
      "source": [
        "nlp = spacy.load(r\"/content/drive/MyDrive/FYP/output/Model3/model-best\")"
      ],
      "execution_count": 3,
      "outputs": []
    },
    {
      "cell_type": "code",
      "metadata": {
        "id": "gUDt1a9NzTtl"
      },
      "source": [
        "df = pd.read_csv(r\"/content/Text_db_final_4_replacing n with period.csv\")"
      ],
      "execution_count": 4,
      "outputs": []
    },
    {
      "cell_type": "code",
      "metadata": {
        "colab": {
          "base_uri": "https://localhost:8080/"
        },
        "id": "-Nxj5Sy81jzw",
        "outputId": "fc30bc81-1588-4a6e-d4bf-97e3cc497a55"
      },
      "source": [
        "df.shape"
      ],
      "execution_count": 5,
      "outputs": [
        {
          "output_type": "execute_result",
          "data": {
            "text/plain": [
              "(3535, 2)"
            ]
          },
          "metadata": {},
          "execution_count": 5
        }
      ]
    },
    {
      "cell_type": "code",
      "metadata": {
        "id": "CIDDWkFz1wdT"
      },
      "source": [
        "examples = df"
      ],
      "execution_count": 12,
      "outputs": []
    },
    {
      "cell_type": "code",
      "metadata": {
        "id": "tCl3dvss1k6J"
      },
      "source": [
        "alldata_ = {}  \n",
        "for i in range(df.shape[0]):\n",
        "    try:\n",
        "      print(i)\n",
        "      doc_to_test=nlp(examples.text[i])\n",
        "      d_={}\n",
        "      for ent in doc_to_test.ents:\n",
        "          d_[ent.label_]=[]\n",
        "      for ent in doc_to_test.ents:\n",
        "          d_[ent.label_].append(ent.text)\n",
        "      alldata_[examples.name[i]] = d_\n",
        "    except TypeError:\n",
        "      print(\"{i} is empty\".format(i))"
      ],
      "execution_count": null,
      "outputs": []
    },
    {
      "cell_type": "code",
      "metadata": {
        "colab": {
          "base_uri": "https://localhost:8080/"
        },
        "id": "tlIX5fpC1rkB",
        "outputId": "8429fd2c-4005-4573-c26a-ef6736df624b"
      },
      "source": [
        "df.text[1047]"
      ],
      "execution_count": 15,
      "outputs": [
        {
          "output_type": "execute_result",
          "data": {
            "text/plain": [
              "nan"
            ]
          },
          "metadata": {},
          "execution_count": 15
        }
      ]
    },
    {
      "cell_type": "code",
      "metadata": {
        "id": "o80_skmm_K_D"
      },
      "source": [
        "alldata_1  = alldata_.copy()"
      ],
      "execution_count": 16,
      "outputs": []
    },
    {
      "cell_type": "code",
      "metadata": {
        "id": "d9wIJMdsUDcd"
      },
      "source": [
        ""
      ],
      "execution_count": null,
      "outputs": []
    },
    {
      "cell_type": "code",
      "metadata": {
        "id": "rCV7H2Aa_QNv"
      },
      "source": [
        "keylist = [key for key in alldata_]"
      ],
      "execution_count": 31,
      "outputs": []
    },
    {
      "cell_type": "code",
      "metadata": {
        "id": "XqN1lJkk_U1w"
      },
      "source": [
        "entitylist = [\"company\",\"edu_level\",\"email\",\"gender\",\"location\",\"no_years\",\"post_number\",\"qualification\",\n",
        "      \"res_skill\",\"salary\",\"salary_range\",\"seniority\",\"specialization\",\"tel\",\"title\",\"years_experienced\"]"
      ],
      "execution_count": 18,
      "outputs": []
    },
    {
      "cell_type": "code",
      "metadata": {
        "id": "_PL3jqX4_lNd"
      },
      "source": [
        "for key in keylist:\n",
        "    for entity in entitylist:\n",
        "        if entity not in alldata_[key].keys():\n",
        "            alldata_[key][entity] = \"0\""
      ],
      "execution_count": 32,
      "outputs": []
    },
    {
      "cell_type": "code",
      "metadata": {
        "colab": {
          "base_uri": "https://localhost:8080/",
          "height": 943
        },
        "id": "81ezHdQU_nKV",
        "outputId": "bf0d7a5e-75af-4b29-93ce-43db808397c4"
      },
      "source": [
        "dfextracted = pd.DataFrame.from_dict(alldata_, orient='columns').transpose().rename_axis('JD_id')#.rename_axis('Entity')\n",
        "dfextracted"
      ],
      "execution_count": 33,
      "outputs": [
        {
          "output_type": "execute_result",
          "data": {
            "text/html": [
              "<div>\n",
              "<style scoped>\n",
              "    .dataframe tbody tr th:only-of-type {\n",
              "        vertical-align: middle;\n",
              "    }\n",
              "\n",
              "    .dataframe tbody tr th {\n",
              "        vertical-align: top;\n",
              "    }\n",
              "\n",
              "    .dataframe thead th {\n",
              "        text-align: right;\n",
              "    }\n",
              "</style>\n",
              "<table border=\"1\" class=\"dataframe\">\n",
              "  <thead>\n",
              "    <tr style=\"text-align: right;\">\n",
              "      <th></th>\n",
              "      <th>company</th>\n",
              "      <th>salary_range</th>\n",
              "      <th>email</th>\n",
              "      <th>edu_level</th>\n",
              "      <th>gender</th>\n",
              "      <th>location</th>\n",
              "      <th>no_years</th>\n",
              "      <th>post_number</th>\n",
              "      <th>qualification</th>\n",
              "      <th>res_skill</th>\n",
              "      <th>salary</th>\n",
              "      <th>seniority</th>\n",
              "      <th>specialization</th>\n",
              "      <th>tel</th>\n",
              "      <th>title</th>\n",
              "      <th>years_experienced</th>\n",
              "      <th>Qualification</th>\n",
              "      <th>Res_skill</th>\n",
              "    </tr>\n",
              "    <tr>\n",
              "      <th>JD_id</th>\n",
              "      <th></th>\n",
              "      <th></th>\n",
              "      <th></th>\n",
              "      <th></th>\n",
              "      <th></th>\n",
              "      <th></th>\n",
              "      <th></th>\n",
              "      <th></th>\n",
              "      <th></th>\n",
              "      <th></th>\n",
              "      <th></th>\n",
              "      <th></th>\n",
              "      <th></th>\n",
              "      <th></th>\n",
              "      <th></th>\n",
              "      <th></th>\n",
              "      <th></th>\n",
              "      <th></th>\n",
              "    </tr>\n",
              "  </thead>\n",
              "  <tbody>\n",
              "    <tr>\n",
              "      <th>TJ_D2_11.</th>\n",
              "      <td>[KONNECT BPO.TECHNOLOGIES (PVT) LTD.Senior Exe...</td>\n",
              "      <td>[Rs.30,000]</td>\n",
              "      <td>[hr@konnectbpo.com]</td>\n",
              "      <td>0</td>\n",
              "      <td>0</td>\n",
              "      <td>0</td>\n",
              "      <td>0</td>\n",
              "      <td>0</td>\n",
              "      <td>0</td>\n",
              "      <td>0</td>\n",
              "      <td>0</td>\n",
              "      <td>0</td>\n",
              "      <td>0</td>\n",
              "      <td>0</td>\n",
              "      <td>0</td>\n",
              "      <td>0</td>\n",
              "      <td>NaN</td>\n",
              "      <td>NaN</td>\n",
              "    </tr>\n",
              "    <tr>\n",
              "      <th>TJ_D2_12.</th>\n",
              "      <td>[CORECUBE.PRIVATE LIMITED.YOUR TECHNOLOGY PART...</td>\n",
              "      <td>0</td>\n",
              "      <td>[hr@corecube.lk]</td>\n",
              "      <td>0</td>\n",
              "      <td>0</td>\n",
              "      <td>[Colombo, Colombo 05]</td>\n",
              "      <td>[06 months, 1 year, 28]</td>\n",
              "      <td>[No. 71/A]</td>\n",
              "      <td>0</td>\n",
              "      <td>[English, communication skills]</td>\n",
              "      <td>0</td>\n",
              "      <td>0</td>\n",
              "      <td>0</td>\n",
              "      <td>[2 503 600.hr@corecube.lk]</td>\n",
              "      <td>0</td>\n",
              "      <td>0</td>\n",
              "      <td>NaN</td>\n",
              "      <td>NaN</td>\n",
              "    </tr>\n",
              "    <tr>\n",
              "      <th>TJ_D2_13.</th>\n",
              "      <td>[John Keells Group]</td>\n",
              "      <td>0</td>\n",
              "      <td>[to.careers.infomate@keells.com]</td>\n",
              "      <td>0</td>\n",
              "      <td>0</td>\n",
              "      <td>0</td>\n",
              "      <td>[3 years]</td>\n",
              "      <td>0</td>\n",
              "      <td>[ACCA, ICASL]</td>\n",
              "      <td>[Reconciliation, SAP system, SAP, communicatio...</td>\n",
              "      <td>0</td>\n",
              "      <td>0</td>\n",
              "      <td>0</td>\n",
              "      <td>0</td>\n",
              "      <td>[Executive]</td>\n",
              "      <td>0</td>\n",
              "      <td>NaN</td>\n",
              "      <td>NaN</td>\n",
              "    </tr>\n",
              "    <tr>\n",
              "      <th>TJ_D2_14.</th>\n",
              "      <td>[TCPLUS]</td>\n",
              "      <td>[LKR 20,000, LKR 50,000, LKR 10,000]</td>\n",
              "      <td>[jobs@tcplustech.com]</td>\n",
              "      <td>0</td>\n",
              "      <td>0</td>\n",
              "      <td>[Colombo]</td>\n",
              "      <td>0</td>\n",
              "      <td>0</td>\n",
              "      <td>0</td>\n",
              "      <td>[support, communication skills]</td>\n",
              "      <td>0</td>\n",
              "      <td>[Junior, Intern]</td>\n",
              "      <td>[–]</td>\n",
              "      <td>0</td>\n",
              "      <td>0</td>\n",
              "      <td>0</td>\n",
              "      <td>NaN</td>\n",
              "      <td>NaN</td>\n",
              "    </tr>\n",
              "    <tr>\n",
              "      <th>TJ_D2_15.</th>\n",
              "      <td>[Adelanka (Pvt), Adelanka (Pvt)]</td>\n",
              "      <td>0</td>\n",
              "      <td>[.recruits@adelanka.com]</td>\n",
              "      <td>[0/L's, A/L's).Good]</td>\n",
              "      <td>0</td>\n",
              "      <td>[Gampaha, Colombo 03]</td>\n",
              "      <td>[27 years]</td>\n",
              "      <td>[No. 107/0, No. 305]</td>\n",
              "      <td>0</td>\n",
              "      <td>[communication skills.in, Sihnala, English, pr...</td>\n",
              "      <td>0</td>\n",
              "      <td>0</td>\n",
              "      <td>0</td>\n",
              "      <td>[.0115 765577.(Imesh).Candidates]</td>\n",
              "      <td>0</td>\n",
              "      <td>0</td>\n",
              "      <td>NaN</td>\n",
              "      <td>NaN</td>\n",
              "    </tr>\n",
              "    <tr>\n",
              "      <th>...</th>\n",
              "      <td>...</td>\n",
              "      <td>...</td>\n",
              "      <td>...</td>\n",
              "      <td>...</td>\n",
              "      <td>...</td>\n",
              "      <td>...</td>\n",
              "      <td>...</td>\n",
              "      <td>...</td>\n",
              "      <td>...</td>\n",
              "      <td>...</td>\n",
              "      <td>...</td>\n",
              "      <td>...</td>\n",
              "      <td>...</td>\n",
              "      <td>...</td>\n",
              "      <td>...</td>\n",
              "      <td>...</td>\n",
              "      <td>...</td>\n",
              "      <td>...</td>\n",
              "    </tr>\n",
              "    <tr>\n",
              "      <th>TJ_U1_ (5).</th>\n",
              "      <td>[Fabrications (Pvt), ISF Industries (Pvt) Ltd,...</td>\n",
              "      <td>0</td>\n",
              "      <td>[-.hrdlk@isfindustries.com]</td>\n",
              "      <td>0</td>\n",
              "      <td>0</td>\n",
              "      <td>[Kalutara, Colombo 07.Tel]</td>\n",
              "      <td>[30 years]</td>\n",
              "      <td>0</td>\n",
              "      <td>0</td>\n",
              "      <td>[Computer literacy]</td>\n",
              "      <td>0</td>\n",
              "      <td>0</td>\n",
              "      <td>[ΒΟΙ, Food Science]</td>\n",
              "      <td>[011-5378081]</td>\n",
              "      <td>0</td>\n",
              "      <td>0</td>\n",
              "      <td>NaN</td>\n",
              "      <td>NaN</td>\n",
              "    </tr>\n",
              "    <tr>\n",
              "      <th>TJ_U1_ (6).</th>\n",
              "      <td>[SINGER.Singer (Sri Lanka) PLC]</td>\n",
              "      <td>0</td>\n",
              "      <td>[chamilad@singersl.com]</td>\n",
              "      <td>0</td>\n",
              "      <td>0</td>\n",
              "      <td>[PILIYANDALA.Job, Piliyandala]</td>\n",
              "      <td>[30 years.•]</td>\n",
              "      <td>[No: 20,Gonamadiththa Road]</td>\n",
              "      <td>[O/L, A/L.•]</td>\n",
              "      <td>[Monitoring, ensure, Engaging, English, Sinhal...</td>\n",
              "      <td>0</td>\n",
              "      <td>[TRAINEE, ASSISTANT]</td>\n",
              "      <td>[–]</td>\n",
              "      <td>0</td>\n",
              "      <td>0</td>\n",
              "      <td>0</td>\n",
              "      <td>NaN</td>\n",
              "      <td>NaN</td>\n",
              "    </tr>\n",
              "    <tr>\n",
              "      <th>TJ_U1_ (7).</th>\n",
              "      <td>[DPJ Holdings]</td>\n",
              "      <td>0</td>\n",
              "      <td>0</td>\n",
              "      <td>[Bachelor's degree]</td>\n",
              "      <td>0</td>\n",
              "      <td>[Horanal, Nawala]</td>\n",
              "      <td>[3 year]</td>\n",
              "      <td>0</td>\n",
              "      <td>0</td>\n",
              "      <td>[Plan, organize, direct, Monitor, maintain, Im...</td>\n",
              "      <td>0</td>\n",
              "      <td>[Assistant]</td>\n",
              "      <td>0</td>\n",
              "      <td>[5 227 227.hr@dpjh.com]</td>\n",
              "      <td>[Manager]</td>\n",
              "      <td>0</td>\n",
              "      <td>NaN</td>\n",
              "      <td>NaN</td>\n",
              "    </tr>\n",
              "    <tr>\n",
              "      <th>TJ_U1_ (8).</th>\n",
              "      <td>[Delmo Chicken &amp; Agro (Pvt) Ltd,]</td>\n",
              "      <td>0</td>\n",
              "      <td>[to.careers@delmo.lk]</td>\n",
              "      <td>[B.Sc. degree, Diploma]</td>\n",
              "      <td>0</td>\n",
              "      <td>[Mellawagedara,]</td>\n",
              "      <td>[35 years]</td>\n",
              "      <td>[No 21,]</td>\n",
              "      <td>0</td>\n",
              "      <td>[communication skill, independently]</td>\n",
              "      <td>0</td>\n",
              "      <td>0</td>\n",
              "      <td>[“, –]</td>\n",
              "      <td>0</td>\n",
              "      <td>[Executive]</td>\n",
              "      <td>0</td>\n",
              "      <td>NaN</td>\n",
              "      <td>NaN</td>\n",
              "    </tr>\n",
              "    <tr>\n",
              "      <th>TJ_U1_ (9).</th>\n",
              "      <td>0</td>\n",
              "      <td>0</td>\n",
              "      <td>[vacancylnv@gmail.com]</td>\n",
              "      <td>[Degree, Master]</td>\n",
              "      <td>0</td>\n",
              "      <td>[Colombo, Horana]</td>\n",
              "      <td>[02 years]</td>\n",
              "      <td>0</td>\n",
              "      <td>0</td>\n",
              "      <td>[update, Understand, improving, Coordinate, Mo...</td>\n",
              "      <td>0</td>\n",
              "      <td>[SENIOR, Senior]</td>\n",
              "      <td>[Chemistry]</td>\n",
              "      <td>0</td>\n",
              "      <td>[EXECUTIVE, EXECUTIVE, Executive, Executive]</td>\n",
              "      <td>0</td>\n",
              "      <td>NaN</td>\n",
              "      <td>NaN</td>\n",
              "    </tr>\n",
              "  </tbody>\n",
              "</table>\n",
              "<p>2487 rows × 18 columns</p>\n",
              "</div>"
            ],
            "text/plain": [
              "                                                       company  ... Res_skill\n",
              "JD_id                                                           ...          \n",
              "TJ_D2_11.    [KONNECT BPO.TECHNOLOGIES (PVT) LTD.Senior Exe...  ...       NaN\n",
              "TJ_D2_12.    [CORECUBE.PRIVATE LIMITED.YOUR TECHNOLOGY PART...  ...       NaN\n",
              "TJ_D2_13.                                  [John Keells Group]  ...       NaN\n",
              "TJ_D2_14.                                             [TCPLUS]  ...       NaN\n",
              "TJ_D2_15.                     [Adelanka (Pvt), Adelanka (Pvt)]  ...       NaN\n",
              "...                                                        ...  ...       ...\n",
              "TJ_U1_ (5).  [Fabrications (Pvt), ISF Industries (Pvt) Ltd,...  ...       NaN\n",
              "TJ_U1_ (6).                    [SINGER.Singer (Sri Lanka) PLC]  ...       NaN\n",
              "TJ_U1_ (7).                                     [DPJ Holdings]  ...       NaN\n",
              "TJ_U1_ (8).                  [Delmo Chicken & Agro (Pvt) Ltd,]  ...       NaN\n",
              "TJ_U1_ (9).                                                  0  ...       NaN\n",
              "\n",
              "[2487 rows x 18 columns]"
            ]
          },
          "metadata": {},
          "execution_count": 33
        }
      ]
    },
    {
      "cell_type": "code",
      "metadata": {
        "id": "oUFRGBtI_orK"
      },
      "source": [
        "dfextracted.to_csv(r\"extractedM3_2.csv\")"
      ],
      "execution_count": 34,
      "outputs": []
    },
    {
      "cell_type": "code",
      "metadata": {
        "id": "0iepNXoV_0Z7"
      },
      "source": [
        "df1 = pd.read_csv(r\"extractedM3_1.csv\")\n",
        "df2 = pd.read_csv(r\"extractedM3_2.csv\")"
      ],
      "execution_count": 44,
      "outputs": []
    },
    {
      "cell_type": "code",
      "metadata": {
        "id": "WH5CN04VUXMG"
      },
      "source": [
        "dfcon =[df1,df2]"
      ],
      "execution_count": 45,
      "outputs": []
    },
    {
      "cell_type": "code",
      "metadata": {
        "id": "OfFMJsYXUiBW"
      },
      "source": [
        "extracted_data= pd.concat(dfcon)"
      ],
      "execution_count": 47,
      "outputs": []
    },
    {
      "cell_type": "code",
      "metadata": {
        "id": "h2OVyWS3VxW0"
      },
      "source": [
        "extracted_data.to_csv(\"extracted_data_from_M3.csv\")"
      ],
      "execution_count": 54,
      "outputs": []
    },
    {
      "cell_type": "code",
      "metadata": {
        "id": "nTQPoAtCVqCM"
      },
      "source": [
        "import ast\n",
        "import pandas as pd"
      ],
      "execution_count": 5,
      "outputs": []
    },
    {
      "cell_type": "code",
      "metadata": {
        "id": "3WdyExd5cbaD"
      },
      "source": [
        "extracted_data = pd.read_csv(\"extracted_data_from_M3.csv\")"
      ],
      "execution_count": 6,
      "outputs": []
    },
    {
      "cell_type": "code",
      "metadata": {
        "colab": {
          "base_uri": "https://localhost:8080/",
          "height": 503
        },
        "id": "eJYkw4acbIFQ",
        "outputId": "3e775789-38c1-4494-e4cc-07c5a7e5df3c"
      },
      "source": [
        "extracted_data.head()"
      ],
      "execution_count": 7,
      "outputs": [
        {
          "output_type": "execute_result",
          "data": {
            "text/html": [
              "<div>\n",
              "<style scoped>\n",
              "    .dataframe tbody tr th:only-of-type {\n",
              "        vertical-align: middle;\n",
              "    }\n",
              "\n",
              "    .dataframe tbody tr th {\n",
              "        vertical-align: top;\n",
              "    }\n",
              "\n",
              "    .dataframe thead th {\n",
              "        text-align: right;\n",
              "    }\n",
              "</style>\n",
              "<table border=\"1\" class=\"dataframe\">\n",
              "  <thead>\n",
              "    <tr style=\"text-align: right;\">\n",
              "      <th></th>\n",
              "      <th>Unnamed: 0</th>\n",
              "      <th>JD_id</th>\n",
              "      <th>location</th>\n",
              "      <th>res_skill</th>\n",
              "      <th>title</th>\n",
              "      <th>no_years</th>\n",
              "      <th>email</th>\n",
              "      <th>company</th>\n",
              "      <th>edu_level</th>\n",
              "      <th>gender</th>\n",
              "      <th>post_number</th>\n",
              "      <th>qualification</th>\n",
              "      <th>salary</th>\n",
              "      <th>salary_range</th>\n",
              "      <th>seniority</th>\n",
              "      <th>specialization</th>\n",
              "      <th>tel</th>\n",
              "      <th>years_experienced</th>\n",
              "      <th>Qualification</th>\n",
              "      <th>Res_skill</th>\n",
              "    </tr>\n",
              "  </thead>\n",
              "  <tbody>\n",
              "    <tr>\n",
              "      <th>0</th>\n",
              "      <td>0</td>\n",
              "      <td>TJ_C1_ (1).</td>\n",
              "      <td>['Colombo']</td>\n",
              "      <td>['managing', 'handle', 'Identify', 'Ensure', '...</td>\n",
              "      <td>['Manager', 'Manager']</td>\n",
              "      <td>['one-year']</td>\n",
              "      <td>['to.careers@muve.me.uk']</td>\n",
              "      <td>0</td>\n",
              "      <td>0</td>\n",
              "      <td>0</td>\n",
              "      <td>0</td>\n",
              "      <td>0</td>\n",
              "      <td>0.0</td>\n",
              "      <td>0</td>\n",
              "      <td>0</td>\n",
              "      <td>0</td>\n",
              "      <td>0</td>\n",
              "      <td>0.0</td>\n",
              "      <td>NaN</td>\n",
              "      <td>NaN</td>\n",
              "    </tr>\n",
              "    <tr>\n",
              "      <th>1</th>\n",
              "      <td>1</td>\n",
              "      <td>TJ_C1_ (10).</td>\n",
              "      <td>['Hambathota', 'Matara']</td>\n",
              "      <td>['accurate reports', 'Handling', 'Preparing', ...</td>\n",
              "      <td>0</td>\n",
              "      <td>['2 years']</td>\n",
              "      <td>['OrionHoldings.lk@gmail.com']</td>\n",
              "      <td>0</td>\n",
              "      <td>['Advanced Level']</td>\n",
              "      <td>0</td>\n",
              "      <td>0</td>\n",
              "      <td>0</td>\n",
              "      <td>0.0</td>\n",
              "      <td>0</td>\n",
              "      <td>0</td>\n",
              "      <td>['“']</td>\n",
              "      <td>['0777 122902']</td>\n",
              "      <td>0.0</td>\n",
              "      <td>['CA', 'CIMA', 'ACCA', 'AAT']</td>\n",
              "      <td>NaN</td>\n",
              "    </tr>\n",
              "    <tr>\n",
              "      <th>2</th>\n",
              "      <td>2</td>\n",
              "      <td>TJ_C1_ (100).</td>\n",
              "      <td>['Panadura', 'Panadura']</td>\n",
              "      <td>['MS Office', 'analytical skills', 'communicat...</td>\n",
              "      <td>0</td>\n",
              "      <td>['Two years', '35 years']</td>\n",
              "      <td>['info@westgate.lk']</td>\n",
              "      <td>['International (Pvt) Limited', 'Westgate Inte...</td>\n",
              "      <td>['Degree']</td>\n",
              "      <td>0</td>\n",
              "      <td>0</td>\n",
              "      <td>['CIMA', 'CA', 'ACCA']</td>\n",
              "      <td>0.0</td>\n",
              "      <td>0</td>\n",
              "      <td>['ASSISTANT']</td>\n",
              "      <td>['Finance']</td>\n",
              "      <td>0</td>\n",
              "      <td>0.0</td>\n",
              "      <td>NaN</td>\n",
              "      <td>NaN</td>\n",
              "    </tr>\n",
              "    <tr>\n",
              "      <th>3</th>\n",
              "      <td>3</td>\n",
              "      <td>TJ_C1_ (101).</td>\n",
              "      <td>['Maharagama']</td>\n",
              "      <td>0</td>\n",
              "      <td>0</td>\n",
              "      <td>['3 years']</td>\n",
              "      <td>['fin.universal2020@gmail.com']</td>\n",
              "      <td>['Universal Labels (Pvt.)']</td>\n",
              "      <td>0</td>\n",
              "      <td>0</td>\n",
              "      <td>0</td>\n",
              "      <td>['CA', 'CMA', 'CIMA']</td>\n",
              "      <td>0.0</td>\n",
              "      <td>0</td>\n",
              "      <td>0</td>\n",
              "      <td>0</td>\n",
              "      <td>['011 2840912/3']</td>\n",
              "      <td>0.0</td>\n",
              "      <td>NaN</td>\n",
              "      <td>['VAT', 'tax procedures.Possess good communica...</td>\n",
              "    </tr>\n",
              "    <tr>\n",
              "      <th>4</th>\n",
              "      <td>4</td>\n",
              "      <td>TJ_C1_ (102).</td>\n",
              "      <td>['Maharagama']</td>\n",
              "      <td>['Preparing', 'analyzing', 'Prepare', 'Maintai...</td>\n",
              "      <td>0</td>\n",
              "      <td>['3 years', '42 years.011']</td>\n",
              "      <td>['fin.universal2020@gmail.com']</td>\n",
              "      <td>['Universal Labels (Pvt.']</td>\n",
              "      <td>0</td>\n",
              "      <td>0</td>\n",
              "      <td>['131/1']</td>\n",
              "      <td>['CA', 'CMA', 'CIMA', 'AAT']</td>\n",
              "      <td>0.0</td>\n",
              "      <td>0</td>\n",
              "      <td>0</td>\n",
              "      <td>0</td>\n",
              "      <td>['-2840912/13']</td>\n",
              "      <td>0.0</td>\n",
              "      <td>NaN</td>\n",
              "      <td>NaN</td>\n",
              "    </tr>\n",
              "  </tbody>\n",
              "</table>\n",
              "</div>"
            ],
            "text/plain": [
              "   Unnamed: 0  ...                                          Res_skill\n",
              "0           0  ...                                                NaN\n",
              "1           1  ...                                                NaN\n",
              "2           2  ...                                                NaN\n",
              "3           3  ...  ['VAT', 'tax procedures.Possess good communica...\n",
              "4           4  ...                                                NaN\n",
              "\n",
              "[5 rows x 20 columns]"
            ]
          },
          "metadata": {},
          "execution_count": 7
        }
      ]
    },
    {
      "cell_type": "code",
      "metadata": {
        "id": "BlVdhrcwlA6e"
      },
      "source": [
        "extracted_data = extracted_data.replace('0',0)"
      ],
      "execution_count": null,
      "outputs": []
    },
    {
      "cell_type": "code",
      "metadata": {
        "id": "63gne1LGUjwe"
      },
      "source": [
        "#function that get the string out the list and put it back as a string\n",
        "def tr(row):\n",
        "    try:\n",
        "        result = ast.literal_eval(row['location'])\n",
        "        return \",\".join(ext for ext in result)\n",
        "    except ValueError:\n",
        "        return \"not_extracted\""
      ],
      "execution_count": 10,
      "outputs": []
    },
    {
      "cell_type": "code",
      "metadata": {
        "id": "uSc60bH7Vb-d"
      },
      "source": [
        "extracted_data['Location'] = extracted_data.apply(tr,axis = 1)"
      ],
      "execution_count": null,
      "outputs": []
    },
    {
      "cell_type": "code",
      "metadata": {
        "id": "oPDRHdJXVnPa"
      },
      "source": [
        "extracted_data['Res_Skill'] = extracted_data.apply(tr,axis = 1)"
      ],
      "execution_count": null,
      "outputs": []
    },
    {
      "cell_type": "code",
      "metadata": {
        "id": "4-MYkc_olMl2"
      },
      "source": [
        "extracted_data['Title'] = extracted_data.apply(tr,axis = 1)"
      ],
      "execution_count": null,
      "outputs": []
    },
    {
      "cell_type": "code",
      "metadata": {
        "id": "D__AKDtulMj1"
      },
      "source": [
        "extracted_data['No_Years'] = extracted_data.apply(tr,axis = 1)"
      ],
      "execution_count": null,
      "outputs": []
    },
    {
      "cell_type": "code",
      "metadata": {
        "id": "P4JkfSZWlMhc"
      },
      "source": [
        "extracted_data['Email'] = extracted_data.apply(tr,axis = 1)"
      ],
      "execution_count": null,
      "outputs": []
    },
    {
      "cell_type": "code",
      "metadata": {
        "id": "Dbwmfb86lMfP"
      },
      "source": [
        "extracted_data['Comapny'] = extracted_data.apply(tr,axis = 1)"
      ],
      "execution_count": null,
      "outputs": []
    },
    {
      "cell_type": "code",
      "metadata": {
        "id": "wdNqZq36lMc8"
      },
      "source": [
        "extracted_data['Education_Level'] = extracted_data.apply(tr,axis = 1)"
      ],
      "execution_count": null,
      "outputs": []
    },
    {
      "cell_type": "code",
      "metadata": {
        "id": "ZKEkqYSWlMUj"
      },
      "source": [
        "extracted_data['Gender'] = extracted_data.apply(tr,axis = 1)"
      ],
      "execution_count": null,
      "outputs": []
    },
    {
      "cell_type": "code",
      "metadata": {
        "id": "eRdfgxoBlMLL"
      },
      "source": [
        "extracted_data['Post_number'] = extracted_data.apply(tr,axis = 1)"
      ],
      "execution_count": null,
      "outputs": []
    },
    {
      "cell_type": "code",
      "metadata": {
        "id": "Q4hnkh08lU0w"
      },
      "source": [
        "extracted_data['Qualification'] = extracted_data.apply(tr,axis = 1)"
      ],
      "execution_count": null,
      "outputs": []
    },
    {
      "cell_type": "code",
      "metadata": {
        "id": "u-Q9jzGflUyG"
      },
      "source": [
        "extracted_data['Salary'] = extracted_data.apply(tr,axis = 1)"
      ],
      "execution_count": null,
      "outputs": []
    },
    {
      "cell_type": "code",
      "metadata": {
        "id": "0tidxdBKlUhU"
      },
      "source": [
        "extracted_data['Seniority'] = extracted_data.apply(tr,axis = 1)"
      ],
      "execution_count": null,
      "outputs": []
    },
    {
      "cell_type": "code",
      "metadata": {
        "id": "4VcfZqiElm_V"
      },
      "source": [
        "extracted_data['Specialization'] = extracted_data.apply(tr,axis = 1)"
      ],
      "execution_count": null,
      "outputs": []
    },
    {
      "cell_type": "code",
      "metadata": {
        "id": "UOFm4t5Kln_q"
      },
      "source": [
        "extracted_data['Telephone'] = extracted_data.apply(tr,axis = 1)"
      ],
      "execution_count": null,
      "outputs": []
    },
    {
      "cell_type": "code",
      "metadata": {
        "id": "Lu0Apas7lpAH"
      },
      "source": [
        "extracted_data['Res_skill'] = extracted_data.apply(tr,axis = 1)"
      ],
      "execution_count": null,
      "outputs": []
    },
    {
      "cell_type": "code",
      "metadata": {
        "id": "QT1e_oUtlsAG"
      },
      "source": [
        "extracted_data = extracted_data.drop(columns = ['location', 'res_skill', 'title', 'no_years', 'email',\n",
        "       'company', 'edu_level', 'gender', 'post_number', 'qualification',\n",
        "       'salary', 'salary_range', 'seniority', 'specialization', 'tel',\n",
        "       'years_experienced'])"
      ],
      "execution_count": null,
      "outputs": []
    },
    {
      "cell_type": "code",
      "metadata": {
        "id": "W1NS3St3lu6f"
      },
      "source": [
        "extracted_data = extracted_data.replace(\"not_extracted\",\"\")"
      ],
      "execution_count": null,
      "outputs": []
    },
    {
      "cell_type": "code",
      "metadata": {
        "id": "DnDQhc-vlxqp"
      },
      "source": [
        "extracted_data['Res_Skill'] = extracted_data['Res_Skill']+df_['Res_skill']"
      ],
      "execution_count": null,
      "outputs": []
    },
    {
      "cell_type": "code",
      "metadata": {
        "id": "MysZXnWilzOM"
      },
      "source": [
        "extracted_data = extracted_data.drop(columns = ['Res_skill'])"
      ],
      "execution_count": null,
      "outputs": []
    }
  ]
}