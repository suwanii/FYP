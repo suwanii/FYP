{
 "cells": [
  {
   "cell_type": "code",
   "execution_count": 2,
   "metadata": {},
   "outputs": [],
   "source": [
    "import regex"
   ]
  },
  {
   "cell_type": "code",
   "execution_count": 3,
   "metadata": {},
   "outputs": [
    {
     "ename": "NameError",
     "evalue": "name 'df' is not defined",
     "output_type": "error",
     "traceback": [
      "\u001b[1;31m---------------------------------------------------------------------------\u001b[0m",
      "\u001b[1;31mNameError\u001b[0m                                 Traceback (most recent call last)",
      "\u001b[1;32m<ipython-input-3-cf009590fcff>\u001b[0m in \u001b[0;36m<module>\u001b[1;34m\u001b[0m\n\u001b[0;32m     35\u001b[0m \u001b[1;33m\u001b[0m\u001b[0m\n\u001b[0;32m     36\u001b[0m \u001b[1;32mfor\u001b[0m \u001b[0mi\u001b[0m \u001b[1;32min\u001b[0m \u001b[0mrange\u001b[0m\u001b[1;33m(\u001b[0m\u001b[1;36m1389\u001b[0m\u001b[1;33m)\u001b[0m\u001b[1;33m:\u001b[0m\u001b[1;33m\u001b[0m\u001b[1;33m\u001b[0m\u001b[0m\n\u001b[1;32m---> 37\u001b[1;33m     \u001b[0mextemail\u001b[0m\u001b[1;33m(\u001b[0m\u001b[0mi\u001b[0m\u001b[1;33m)\u001b[0m\u001b[1;33m\u001b[0m\u001b[1;33m\u001b[0m\u001b[0m\n\u001b[0m\u001b[0;32m     38\u001b[0m \u001b[1;33m\u001b[0m\u001b[0m\n\u001b[0;32m     39\u001b[0m \u001b[1;33m\u001b[0m\u001b[0m\n",
      "\u001b[1;32m<ipython-input-3-cf009590fcff>\u001b[0m in \u001b[0;36mextemail\u001b[1;34m(index)\u001b[0m\n\u001b[0;32m     15\u001b[0m     \u001b[1;32mNone\u001b[0m\u001b[1;33m.\u001b[0m\u001b[1;33m\u001b[0m\u001b[1;33m\u001b[0m\u001b[0m\n\u001b[0;32m     16\u001b[0m     '''\n\u001b[1;32m---> 17\u001b[1;33m     \u001b[0mt\u001b[0m \u001b[1;33m=\u001b[0m \u001b[0mdf\u001b[0m\u001b[1;33m.\u001b[0m\u001b[0mtext\u001b[0m\u001b[1;33m[\u001b[0m\u001b[0mindex\u001b[0m\u001b[1;33m]\u001b[0m\u001b[1;33m\u001b[0m\u001b[1;33m\u001b[0m\u001b[0m\n\u001b[0m\u001b[0;32m     18\u001b[0m     \u001b[0mid_\u001b[0m \u001b[1;33m=\u001b[0m \u001b[0mdf\u001b[0m\u001b[1;33m.\u001b[0m\u001b[0mname\u001b[0m\u001b[1;33m[\u001b[0m\u001b[0mindex\u001b[0m\u001b[1;33m]\u001b[0m\u001b[1;33m\u001b[0m\u001b[1;33m\u001b[0m\u001b[0m\n\u001b[0;32m     19\u001b[0m     \u001b[1;32mtry\u001b[0m\u001b[1;33m:\u001b[0m\u001b[1;33m\u001b[0m\u001b[1;33m\u001b[0m\u001b[0m\n",
      "\u001b[1;31mNameError\u001b[0m: name 'df' is not defined"
     ]
    }
   ],
   "source": [
    "pattern = '\\s+([^\\s]+?\\s+[^\\s]+?\\s+[^\\s]+?\\s+[^\\s]+?)\\s(?:inc\\.|PLC|LTD|Ltd|Limited|Group|Holdings|Engineering|Bank|Hospital|tours|Agencies\\.).*'\n",
    "\n",
    "email = {}\n",
    "\n",
    "def extemail(index):\n",
    "    '''\n",
    "    Parameters\n",
    "    ----------\n",
    "    index : number\n",
    "        It will take the index of a given row and checks if it has any \n",
    "        pattern specified in the pattern list.\n",
    "      \n",
    "    Returns\n",
    "    -------\n",
    "    None.\n",
    "    '''\n",
    "    t = df.text[index]\n",
    "    id_ = df.name[index]\n",
    "    try:\n",
    "        print(f\"extracting {index}\")\n",
    "        mail = regex.findall(pattern,t)\n",
    "        # print outs the ads without email\n",
    "        if len(mail) == 0:\n",
    "            print(f\"{id_} , {index}\")\n",
    "        else:\n",
    "            for i in mail:\n",
    "                names= i.split(\".\")\n",
    "                email[id_] = names[-1]\n",
    "         \n",
    "       \n",
    "               \n",
    "            \n",
    "    except TypeError:\n",
    "        print(f\"Error in {id_}-----------------------------------------{index}\")\n",
    "\n",
    "for i in range(1389):\n",
    "    extemail(i)\n",
    "    \n",
    "  \n",
    " \n",
    "# Combining the extracted telephone number with the existing data frame\n",
    "df['Email'] = df.name.map(email)\n",
    "\n",
    "df.to_csv(r\"C:\\Users\\Diluni Peiris\\Desktop\\Final Year Project\\Com_name_new7.CSV\")"
   ]
  },
  {
   "cell_type": "code",
   "execution_count": null,
   "metadata": {},
   "outputs": [],
   "source": []
  }
 ],
 "metadata": {
  "kernelspec": {
   "display_name": "Python 3",
   "language": "python",
   "name": "python3"
  },
  "language_info": {
   "codemirror_mode": {
    "name": "ipython",
    "version": 3
   },
   "file_extension": ".py",
   "mimetype": "text/x-python",
   "name": "python",
   "nbconvert_exporter": "python",
   "pygments_lexer": "ipython3",
   "version": "3.7.3"
  }
 },
 "nbformat": 4,
 "nbformat_minor": 4
}
