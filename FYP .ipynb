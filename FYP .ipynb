{
 "cells": [
  {
   "cell_type": "code",
   "execution_count": 1,
   "metadata": {},
   "outputs": [],
   "source": [
    "import pandas as pd \n",
    "df=pd.read_csv('F:\\\\FYP\\\\data set\\\\Text_db_final_2.csv')"
   ]
  },
  {
   "cell_type": "code",
   "execution_count": 2,
   "metadata": {},
   "outputs": [],
   "source": [
    "Locationlst=[\"Akmeemana\", \"Ambalanthota\",\"Alayadiwembu\",\"Ambalangoda\",\"Akurana\",'Ambagamuwa','Akuressa','Ampara','Alawwa,Arachchikattuwa','Attanagalla','Agalawatta','Ayagama','Ambanganga Korale','Akkaraipattu','Angunakolapelessa','Baddegama','Balapitiya','Bope-Poddala','Bandarawela','Beruwala','Beliatta','Benthota','Buttala','Bentota','Badulla','Bandaragama','Balangoda','Biyagama','Chilaw','Colombo','Delthota','Divulapitiya','Dodangoda','Doluwa','Dambulla','Dickwella','Dankotuwa','Devinuwara','Dimbulagala','Dehiattakandiya','Deraniyagala','Dompe,Dehiovita','Delft,Eravur Pattu','Ella','Elpitiya','Eravu','Embilipitiya','Eheliyagoda','Galgamuwa','Galle','Ganga Ihala Korale','Galewela','Gampaha','Godakawela','Galigamuwa','Haputale','Horana','Harispattuwa','Hildummulla','Hali-Ela','Hambantota','Hikkaduwa','Habaraduwa','Hatharaliyadda','Hingurakgoda','Hanguranketha','Homagama','Hanwella','Ipalogama','Imaduwa','Ingiriya','Ibbagamuwa','Imbulpe','Jaffna','Ja-Ela','Kesbewa','Kaduwela','Kelaniya','Kalutara','Kundasale','Katana','Valachchenai','Kekirawa','Katharagama','Kuchchaveli','Kothmale','Kandy','Kotapola','Kuruvita','Kamburupitiya','Kalpitiya','Kegalle','Kurunegala','Kobeigane','Kalawana','Kahawatta','Kolonna','Koralai Pattu North','Kiriella','Kuliyapitiya','Kinniya','Kolonnawa','Katuwana','Karandeniya','Karuwalagaswewa','Karachchi','Lunugamvehera','Lahugala','Lankapura','Laggala-Pallegama','Lunugala','Medadumbara','Mahara','Maharagama','Mathugama','Moratuwa','Mihinthale','Manmunai','Minipe','Minuwangoda','Mawathagama','Mahiyanganaya','Mawanella','Millaniya','Mulatiyana','Matale','Matara','Malimbada','Mount Lavinia','Manna','Mirigama','Madulla','Mahawewa','Moneragala','Mahakumbukkadawala','Maspotha','Maritimepattu','Mahawa','Medawachchiya','Mundalama','Mirissa','Madurawala','Medagama','Mallawapitiya','Meegahakivula','Nallur','Nochchiyagama','Negombo','Nachchadoowa','Nagoda','Nanaddan','Naula','Nivithigala','Nuwara Eliya','Ninthavur','Nikaweratiya','Nattandiya','Niyagama','Opanayaka','Palugaswewa','Passara','Pathadumbara','Panvila','Pathahewaheta','Padukka','Panadura','Poojapitiya','Pothuvil','Puttalam','Polpithigama','Pelmadulla','Pallepola','Pitabeddara','Palindanuwara','Panduwasnuwara','Pannala','Palagala','Polgahawela','Pachchilaipalli','Pollonnaruwa','Rambukkana','Rambewa','Ratnapura','Rattota','Ruwanwella','Rideegama','Sri Jayawardanapura Kotte','Sevanagala','Sooriyawewa','Siyambalanduwa','Sainthamarathu','Samanthurai','Thissamaharama','Thawalama','Tangalle','Thambuttegama','Thumpane','Thalawa','Thirappane','Thenmaradchy','Trincomalee','Thanamalvila','Thihagoda','Thamankaduwa',\n",
    "'Udapalatha','Udunuwara','Uva Paranagama','Ukuwela','Udubaddawa','Unawatuna','Udadumbara','Uhana','Vanathavilluwa','Vavuniya','Valikamam','Vadamaradchy','Walallawita','Welivitiya','Welimada','Wattala','Wellawaya','Welikanda','Welipitiya','Walapane','Wennappuwa','Weligama','Wariyapola','Weeraketiya','Wilgamuwa','Warakapola','Yatinuwara','Yakkalamulla','Yatiyanthota','Yatawatta']\n",
    "\n",
    "#len(Locationlst)\n",
    "def location (text):\n",
    "    Locationlst=[\"Akmeemana\", \"Ambalanthota\",\"Alayadiwembu\",\"Ambalangoda\",\"Akurana\",'Ambagamuwa','Akuressa','Ampara','Alawwa,Arachchikattuwa','Attanagalla','Agalawatta','Ayagama','Ambanganga Korale','Akkaraipattu','Angunakolapelessa','Baddegama','Balapitiya','Bope-Poddala','Bandarawela','Beruwala','Beliatta','Benthota','Buttala','Bentota','Badulla','Bandaragama','Balangoda','Biyagama','Chilaw','Colombo','Delthota','Divulapitiya','Dodangoda','Doluwa','Dambulla','Dickwella','Dankotuwa','Devinuwara','Dimbulagala','Dehiattakandiya','Deraniyagala','Dompe,Dehiovita','Delft,Eravur Pattu','Ella','Elpitiya','Eravu','Embilipitiya','Eheliyagoda','Galgamuwa','Galle','Ganga Ihala Korale','Galewela','Gampaha','Godakawela','Galigamuwa','Haputale','Horana','Harispattuwa','Hildummulla','Hali-Ela','Hambantota','Hikkaduwa','Habaraduwa','Hatharaliyadda','Hingurakgoda','Hanguranketha','Homagama','Hanwella','Ipalogama','Imaduwa','Ingiriya','Ibbagamuwa','Imbulpe','Jaffna','Ja-Ela','Kesbewa','Kaduwela','Kelaniya','Kalutara','Kundasale','Katana','Valachchenai','Kekirawa','Katharagama','Kuchchaveli','Kothmale','Kandy','Kotapola','Kuruvita','Kamburupitiya','Kalpitiya','Kegalle','Kurunegala','Kobeigane','Kalawana','Kahawatta','Kolonna','Koralai Pattu North','Kiriella','Kuliyapitiya','Kinniya','Kolonnawa','Katuwana','Karandeniya','Karuwalagaswewa','Karachchi','Lunugamvehera','Lahugala','Lankapura','Laggala-Pallegama','Lunugala','Medadumbara','Mahara','Maharagama','Mathugama','Moratuwa','Mihinthale','Manmunai','Minipe','Minuwangoda','Mawathagama','Mahiyanganaya','Mawanella','Millaniya','Mulatiyana','Matale','Matara','Malimbada','Mount Lavinia','Manna','Mirigama','Madulla','Mahawewa','Moneragala','Mahakumbukkadawala','Maspotha','Maritimepattu','Mahawa','Medawachchiya','Mundalama','Mirissa','Madurawala','Medagama','Mallawapitiya','Meegahakivula','Nallur','Nochchiyagama','Negombo','Nachchadoowa','Nagoda','Nanaddan','Naula','Nivithigala','Nuwara Eliya','Ninthavur','Nikaweratiya','Nattandiya','Niyagama','Opanayaka','Palugaswewa','Passara','Pathadumbara','Panvila','Pathahewaheta','Padukka','Panadura','Poojapitiya','Pothuvil','Puttalam','Polpithigama','Pelmadulla','Pallepola','Pitabeddara','Palindanuwara','Panduwasnuwara','Pannala','Palagala','Polgahawela','Pachchilaipalli','Pollonnaruwa','Rambukkana','Rambewa','Ratnapura','Rattota','Ruwanwella','Rideegama','Sri Jayawardanapura Kotte','Sevanagala','Sooriyawewa','Siyambalanduwa','Sainthamarathu','Samanthurai','Thissamaharama','Thawalama','Tangalle','Thambuttegama','Thumpane','Thalawa','Thirappane','Thenmaradchy','Trincomalee','Thanamalvila','Thihagoda','Thamankaduwa',\n",
    "'Udapalatha','Udunuwara','Uva Paranagama','Ukuwela','Udubaddawa','Unawatuna','Udadumbara','Uhana','Vanathavilluwa','Vavuniya','Valikamam','Vadamaradchy','Walallawita','Welivitiya','Welimada','Wattala','Wellawaya','Welikanda','Welipitiya','Walapane','Wennappuwa','Weligama','Wariyapola','Weeraketiya','Wilgamuwa','Warakapola','Yatinuwara','Yakkalamulla','Yatiyanthota','Yatawatta']\n",
    "    return [i for i in Locationlst if i in text]\n",
    "    #for i in Locationlst:\n",
    "        #if i in text :\n",
    "            #return i\n",
    "        \n",
    "def tolist(text):\n",
    "    float_list=[]\n",
    "    for item in text:\n",
    "        float_list.append(item)"
   ]
  },
  {
   "cell_type": "code",
   "execution_count": 3,
   "metadata": {},
   "outputs": [],
   "source": [
    "df.text= df.text.astype(str)"
   ]
  },
  {
   "cell_type": "code",
   "execution_count": 4,
   "metadata": {},
   "outputs": [],
   "source": [
    "df['location']=df['text'].map(location)"
   ]
  },
  {
   "cell_type": "code",
   "execution_count": 5,
   "metadata": {},
   "outputs": [],
   "source": [
    "genderlst=[\"male\",\"Female\",\"female\", \"Male\", \"Ladies\", \"Gents\", \"ladies\"]\n",
    "def gender(text):\n",
    "    \n",
    "    for i in genderlst:\n",
    "        if i in text:\n",
    "            return i"
   ]
  },
  {
   "cell_type": "code",
   "execution_count": 6,
   "metadata": {},
   "outputs": [],
   "source": [
    "df['gender']=df['text'].map(gender)"
   ]
  },
  {
   "cell_type": "code",
   "execution_count": 7,
   "metadata": {},
   "outputs": [],
   "source": [
    "def educationqualification (text):\n",
    "    educationlst=[\"Bachalors Degree\", \"Diploma\", \"diploma\", \"CIMA\", \"aat\", \"AAT\",\"O/L\",\"A/L\",\"ACCA\",'b.SC','Degree','Masters','NDT',\"Chartered\",\"NVQ\",\"HND\",\"TTI\",\"ICASL\",\"CGTTI\",'NAITA',\"ATI\",\"NDES\",\"NCT\",\"JLPT N2\",\"CCNA\",'ERP',\"CISA\",\"MCSC\",\"CMA\",\"ICSL\",\"CASL\",\"IBSL\"]\n",
    "    return [i for i in educationlst if i in text]"
   ]
  },
  {
   "cell_type": "code",
   "execution_count": 8,
   "metadata": {},
   "outputs": [],
   "source": [
    "df['Education qualification']=df['text'].map(educationqualification)"
   ]
  },
  {
   "cell_type": "code",
   "execution_count": 23,
   "metadata": {},
   "outputs": [],
   "source": [
    "import re\n",
    "def sala(i):\n",
    "    salary=[]\n",
    "    salary= re.findall(r'(?<=Rs. )(?:\\d+[.,]?)+(?= )(/-$)',i)\n",
    "    return salary \n"
   ]
  },
  {
   "cell_type": "code",
   "execution_count": 24,
   "metadata": {},
   "outputs": [],
   "source": [
    "df['salary']=df['text'].map(sala)"
   ]
  },
  {
   "cell_type": "code",
   "execution_count": 25,
   "metadata": {},
   "outputs": [
    {
     "data": {
      "text/html": [
       "<div>\n",
       "<style scoped>\n",
       "    .dataframe tbody tr th:only-of-type {\n",
       "        vertical-align: middle;\n",
       "    }\n",
       "\n",
       "    .dataframe tbody tr th {\n",
       "        vertical-align: top;\n",
       "    }\n",
       "\n",
       "    .dataframe thead th {\n",
       "        text-align: right;\n",
       "    }\n",
       "</style>\n",
       "<table border=\"1\" class=\"dataframe\">\n",
       "  <thead>\n",
       "    <tr style=\"text-align: right;\">\n",
       "      <th></th>\n",
       "      <th>Unnamed: 0</th>\n",
       "      <th>name</th>\n",
       "      <th>text</th>\n",
       "      <th>location</th>\n",
       "      <th>gender</th>\n",
       "      <th>Education qualification</th>\n",
       "      <th>salary</th>\n",
       "    </tr>\n",
       "  </thead>\n",
       "  <tbody>\n",
       "    <tr>\n",
       "      <td>0</td>\n",
       "      <td>0</td>\n",
       "      <td>TJ_C1_ (1).</td>\n",
       "      <td>\"mÃ»ve ASSOCIATE FINANCE WHO WE ARE Muve is a ...</td>\n",
       "      <td>[Colombo]</td>\n",
       "      <td>None</td>\n",
       "      <td>[CIMA, ACCA, ERP]</td>\n",
       "      <td>[]</td>\n",
       "    </tr>\n",
       "    <tr>\n",
       "      <td>1</td>\n",
       "      <td>1</td>\n",
       "      <td>TJ_C1_ (10).</td>\n",
       "      <td>\"ACCOUNTANT / ACCOUNTS EXECUTIVE Orion Holding...</td>\n",
       "      <td>[Matara]</td>\n",
       "      <td>None</td>\n",
       "      <td>[CIMA, AAT, ACCA]</td>\n",
       "      <td>[]</td>\n",
       "    </tr>\n",
       "    <tr>\n",
       "      <td>2</td>\n",
       "      <td>2</td>\n",
       "      <td>TJ_C1_ (100).</td>\n",
       "      <td>\"ASSISTANT ACCOUNTANT Westgate International (...</td>\n",
       "      <td>[Panadura]</td>\n",
       "      <td>None</td>\n",
       "      <td>[CIMA, ACCA, Degree]</td>\n",
       "      <td>[]</td>\n",
       "    </tr>\n",
       "    <tr>\n",
       "      <td>3</td>\n",
       "      <td>3</td>\n",
       "      <td>TJ_C1_ (101).</td>\n",
       "      <td>\"ACCOUNTS ASSISTANT A Well-established BOI and...</td>\n",
       "      <td>[Mahara, Maharagama]</td>\n",
       "      <td>None</td>\n",
       "      <td>[CIMA, AAT, CMA]</td>\n",
       "      <td>[]</td>\n",
       "    </tr>\n",
       "    <tr>\n",
       "      <td>4</td>\n",
       "      <td>4</td>\n",
       "      <td>TJ_C1_ (102).</td>\n",
       "      <td>\"A Well-established ISO ASSISTANT ACCOUNTANT C...</td>\n",
       "      <td>[Mahara, Maharagama]</td>\n",
       "      <td>None</td>\n",
       "      <td>[CIMA, AAT, CMA]</td>\n",
       "      <td>[]</td>\n",
       "    </tr>\n",
       "    <tr>\n",
       "      <td>...</td>\n",
       "      <td>...</td>\n",
       "      <td>...</td>\n",
       "      <td>...</td>\n",
       "      <td>...</td>\n",
       "      <td>...</td>\n",
       "      <td>...</td>\n",
       "      <td>...</td>\n",
       "    </tr>\n",
       "    <tr>\n",
       "      <td>3372</td>\n",
       "      <td>3372</td>\n",
       "      <td>TJ_U1_ (5).</td>\n",
       "      <td>VACANCIES IN OUR SF HORANÎ‘ Î’ÎŸÎ™ PROJECT Ind...</td>\n",
       "      <td>[Colombo, Horana, Kalutara]</td>\n",
       "      <td>None</td>\n",
       "      <td>[]</td>\n",
       "      <td>[]</td>\n",
       "    </tr>\n",
       "    <tr>\n",
       "      <td>3373</td>\n",
       "      <td>3373</td>\n",
       "      <td>TJ_U1_ (6).</td>\n",
       "      <td>SRI LANKA'S NUMBER ONE BRAND IS COUNTING ON YO...</td>\n",
       "      <td>[]</td>\n",
       "      <td>None</td>\n",
       "      <td>[O/L, A/L]</td>\n",
       "      <td>[]</td>\n",
       "    </tr>\n",
       "    <tr>\n",
       "      <td>3374</td>\n",
       "      <td>3374</td>\n",
       "      <td>TJ_U1_ (7).</td>\n",
       "      <td>DPJH Drive, Determination, Diversity Assistant...</td>\n",
       "      <td>[Horana]</td>\n",
       "      <td>None</td>\n",
       "      <td>[]</td>\n",
       "      <td>[]</td>\n",
       "    </tr>\n",
       "    <tr>\n",
       "      <td>3375</td>\n",
       "      <td>3375</td>\n",
       "      <td>TJ_U1_ (8).</td>\n",
       "      <td>Career Opportunity. Quality Assurance Executiv...</td>\n",
       "      <td>[]</td>\n",
       "      <td>None</td>\n",
       "      <td>[Diploma]</td>\n",
       "      <td>[]</td>\n",
       "    </tr>\n",
       "    <tr>\n",
       "      <td>3376</td>\n",
       "      <td>3376</td>\n",
       "      <td>TJ_U1_ (9).</td>\n",
       "      <td>EXECUTIVE / SENIOR EXECUTIVE - PRODUCT, QUALIT...</td>\n",
       "      <td>[Colombo, Horana]</td>\n",
       "      <td>None</td>\n",
       "      <td>[Degree, ATI]</td>\n",
       "      <td>[]</td>\n",
       "    </tr>\n",
       "  </tbody>\n",
       "</table>\n",
       "<p>3377 rows × 7 columns</p>\n",
       "</div>"
      ],
      "text/plain": [
       "      Unnamed: 0           name  \\\n",
       "0              0    TJ_C1_ (1).   \n",
       "1              1   TJ_C1_ (10).   \n",
       "2              2  TJ_C1_ (100).   \n",
       "3              3  TJ_C1_ (101).   \n",
       "4              4  TJ_C1_ (102).   \n",
       "...          ...            ...   \n",
       "3372        3372    TJ_U1_ (5).   \n",
       "3373        3373    TJ_U1_ (6).   \n",
       "3374        3374    TJ_U1_ (7).   \n",
       "3375        3375    TJ_U1_ (8).   \n",
       "3376        3376    TJ_U1_ (9).   \n",
       "\n",
       "                                                   text  \\\n",
       "0     \"mÃ»ve ASSOCIATE FINANCE WHO WE ARE Muve is a ...   \n",
       "1     \"ACCOUNTANT / ACCOUNTS EXECUTIVE Orion Holding...   \n",
       "2     \"ASSISTANT ACCOUNTANT Westgate International (...   \n",
       "3     \"ACCOUNTS ASSISTANT A Well-established BOI and...   \n",
       "4     \"A Well-established ISO ASSISTANT ACCOUNTANT C...   \n",
       "...                                                 ...   \n",
       "3372  VACANCIES IN OUR SF HORANÎ‘ Î’ÎŸÎ™ PROJECT Ind...   \n",
       "3373  SRI LANKA'S NUMBER ONE BRAND IS COUNTING ON YO...   \n",
       "3374  DPJH Drive, Determination, Diversity Assistant...   \n",
       "3375  Career Opportunity. Quality Assurance Executiv...   \n",
       "3376  EXECUTIVE / SENIOR EXECUTIVE - PRODUCT, QUALIT...   \n",
       "\n",
       "                         location gender Education qualification salary  \n",
       "0                       [Colombo]   None       [CIMA, ACCA, ERP]     []  \n",
       "1                        [Matara]   None       [CIMA, AAT, ACCA]     []  \n",
       "2                      [Panadura]   None    [CIMA, ACCA, Degree]     []  \n",
       "3            [Mahara, Maharagama]   None        [CIMA, AAT, CMA]     []  \n",
       "4            [Mahara, Maharagama]   None        [CIMA, AAT, CMA]     []  \n",
       "...                           ...    ...                     ...    ...  \n",
       "3372  [Colombo, Horana, Kalutara]   None                      []     []  \n",
       "3373                           []   None              [O/L, A/L]     []  \n",
       "3374                     [Horana]   None                      []     []  \n",
       "3375                           []   None               [Diploma]     []  \n",
       "3376            [Colombo, Horana]   None           [Degree, ATI]     []  \n",
       "\n",
       "[3377 rows x 7 columns]"
      ]
     },
     "execution_count": 25,
     "metadata": {},
     "output_type": "execute_result"
    }
   ],
   "source": [
    "df"
   ]
  },
  {
   "cell_type": "code",
   "execution_count": 26,
   "metadata": {},
   "outputs": [],
   "source": [
    "df.to_csv('F:\\\\FYP\\\\data set\\\\Text_db_completed4.csv')"
   ]
  },
  {
   "cell_type": "code",
   "execution_count": null,
   "metadata": {},
   "outputs": [],
   "source": []
  }
 ],
 "metadata": {
  "kernelspec": {
   "display_name": "Python 3",
   "language": "python",
   "name": "python3"
  },
  "language_info": {
   "codemirror_mode": {
    "name": "ipython",
    "version": 3
   },
   "file_extension": ".py",
   "mimetype": "text/x-python",
   "name": "python",
   "nbconvert_exporter": "python",
   "pygments_lexer": "ipython3",
   "version": "3.7.4"
  }
 },
 "nbformat": 4,
 "nbformat_minor": 2
}
