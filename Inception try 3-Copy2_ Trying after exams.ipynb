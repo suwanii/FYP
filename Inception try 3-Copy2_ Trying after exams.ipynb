{
 "cells": [
  {
   "cell_type": "code",
   "execution_count": 3,
   "metadata": {},
   "outputs": [],
   "source": [
    "# in this script i have corrected the errors \n",
    "# 'Entities not found' and \"begin not found\""
   ]
  },
  {
   "cell_type": "code",
   "execution_count": 25,
   "metadata": {},
   "outputs": [],
   "source": [
    "import json"
   ]
  },
  {
   "cell_type": "code",
   "execution_count": 26,
   "metadata": {},
   "outputs": [],
   "source": [
    "#with open(\"D:\\FYP\\Annotation JSON\\Inception\\JSON fils Suwani\\S_11.json\",encoding='utf-8') as data_file:\n",
    "#    data = json.load(data_file)"
   ]
  },
  {
   "cell_type": "code",
   "execution_count": 27,
   "metadata": {},
   "outputs": [],
   "source": [
    "with open(\"D:\\FYP\\Annotation JSON\\Inception\\JSON fils Suwani\\S_211.json\",encoding='utf-8') as data_file:\n",
    "    data = json.load(data_file)"
   ]
  },
  {
   "cell_type": "code",
   "execution_count": 28,
   "metadata": {},
   "outputs": [
    {
     "data": {
      "text/plain": [
       "<_io.TextIOWrapper name='D:\\\\FYP\\\\Annotation JSON\\\\Inception\\\\JSON fils Suwani\\\\S_211.json' mode='r' encoding='utf-8'>"
      ]
     },
     "execution_count": 28,
     "metadata": {},
     "output_type": "execute_result"
    }
   ],
   "source": [
    "data_file"
   ]
  },
  {
   "cell_type": "code",
   "execution_count": 29,
   "metadata": {},
   "outputs": [],
   "source": [
    "# Getting the entire text\n",
    "fulltext = data['_referenced_fss']['1']['sofaString']"
   ]
  },
  {
   "cell_type": "code",
   "execution_count": 30,
   "metadata": {},
   "outputs": [
    {
     "data": {
      "text/plain": [
       "\"bileeta\\r\\nWe're Hiring!\\r\\nBUSINESS DEVELOPMENT EXECUTIVE\\r\\nERP SOLUTIONS\\r\\nBileeta (PVT) Ltd, is an Award Winning Cloud Based Enterprise Resource Planning\\r\\nsolution (ERP) and eLogistic Supply Chain Management (eLMIS) solution provider\\r\\nto small, medium to large organizations under the brand name of Entution.\\r\\nEstablished in 2010, Bileeta operates from Colombo, Sri Lanka with a 100+ team\\r\\nbased, consists of both technical and domain experts. Entution, a cloud based\\r\\nERP solution is designed and developed by Bileeta – a Sri Lankan company.\\r\\nAn opportunity has now arisen for a Business Development\\r\\nExecutive to join the organization. The selected individual will be entitled for\\r\\nan attractive remuneration package.\\r\\nResponsibilities\\r\\nResearching organizations and individuals to identify new leads and potential new\\r\\nmarkets.\\r\\nPrepare proposals and presentations.\\r\\nBuild good relationships with the customer base and maintain fruitful relationships with\\r\\nexisting customers.\\r\\nMeet revenue targets by driving the ERP software sales.\\r\\nAttending conferences, meetings and industry events.\\r\\nPersonal profile and skills\\r\\n• Should have a sound educational background in IT & Finance. Preferably a degree in IT,\\r\\nfinance/accounting.\\r\\nBachelor's in Business Management or partly qualified in CIM / SLIM.\\r\\nCourses followed in customer service, presentation skills, public speaking, international\\r\\nrelations will be advantageous.\\r\\n· Minimum 2 years of experience in a similar position in ERP industry.\\r\\nProven track record of achieving sales targets & budgets.\\r\\nPossess exceptional marketing skills, negotiation skills, good communication skills &\\r\\npresentation skills.\\r\\nSend your CV to: careers@bileeta.com\\r\\nwith the position applied for in the subject header.\\r\\n\""
      ]
     },
     "execution_count": 30,
     "metadata": {},
     "output_type": "execute_result"
    }
   ],
   "source": [
    "fulltext"
   ]
  },
  {
   "cell_type": "code",
   "execution_count": 31,
   "metadata": {},
   "outputs": [
    {
     "data": {
      "text/plain": [
       "'BUSINESS DEVELOPMENT EXECUTIVE'"
      ]
     },
     "execution_count": 31,
     "metadata": {},
     "output_type": "execute_result"
    }
   ],
   "source": [
    "fulltext[24:54]"
   ]
  },
  {
   "cell_type": "code",
   "execution_count": 32,
   "metadata": {},
   "outputs": [],
   "source": [
    "# Replacing \n",
    "sentences_all =fulltext.replace(\"â€¢\",\"\\n\")"
   ]
  },
  {
   "cell_type": "code",
   "execution_count": 33,
   "metadata": {},
   "outputs": [
    {
     "data": {
      "text/plain": [
       "\"bileeta\\r\\nWe're Hiring!\\r\\nBUSINESS DEVELOPMENT EXECUTIVE\\r\\nERP SOLUTIONS\\r\\nBileeta (PVT) Ltd, is an Award Winning Cloud Based Enterprise Resource Planning\\r\\nsolution (ERP) and eLogistic Supply Chain Management (eLMIS) solution provider\\r\\nto small, medium to large organizations under the brand name of Entution.\\r\\nEstablished in 2010, Bileeta operates from Colombo, Sri Lanka with a 100+ team\\r\\nbased, consists of both technical and domain experts. Entution, a cloud based\\r\\nERP solution is designed and developed by Bileeta – a Sri Lankan company.\\r\\nAn opportunity has now arisen for a Business Development\\r\\nExecutive to join the organization. The selected individual will be entitled for\\r\\nan attractive remuneration package.\\r\\nResponsibilities\\r\\nResearching organizations and individuals to identify new leads and potential new\\r\\nmarkets.\\r\\nPrepare proposals and presentations.\\r\\nBuild good relationships with the customer base and maintain fruitful relationships with\\r\\nexisting customers.\\r\\nMeet revenue targets by driving the ERP software sales.\\r\\nAttending conferences, meetings and industry events.\\r\\nPersonal profile and skills\\r\\n• Should have a sound educational background in IT & Finance. Preferably a degree in IT,\\r\\nfinance/accounting.\\r\\nBachelor's in Business Management or partly qualified in CIM / SLIM.\\r\\nCourses followed in customer service, presentation skills, public speaking, international\\r\\nrelations will be advantageous.\\r\\n· Minimum 2 years of experience in a similar position in ERP industry.\\r\\nProven track record of achieving sales targets & budgets.\\r\\nPossess exceptional marketing skills, negotiation skills, good communication skills &\\r\\npresentation skills.\\r\\nSend your CV to: careers@bileeta.com\\r\\nwith the position applied for in the subject header.\\r\\n\""
      ]
     },
     "execution_count": 33,
     "metadata": {},
     "output_type": "execute_result"
    }
   ],
   "source": [
    "sentences_all"
   ]
  },
  {
   "cell_type": "code",
   "execution_count": 34,
   "metadata": {},
   "outputs": [],
   "source": [
    "## Replacing \\r\\n with two spaces and \\n with one space\n",
    "sentences_all = sentences_all.replace('\\r\\n', '  ').replace('\\n',' ')"
   ]
  },
  {
   "cell_type": "code",
   "execution_count": 35,
   "metadata": {},
   "outputs": [
    {
     "data": {
      "text/plain": [
       "'2 years of experience'"
      ]
     },
     "execution_count": 35,
     "metadata": {},
     "output_type": "execute_result"
    }
   ],
   "source": [
    "sentences_all[1433:1454]"
   ]
  },
  {
   "cell_type": "code",
   "execution_count": 36,
   "metadata": {},
   "outputs": [],
   "source": [
    "# Getting the sentence boundaries\n",
    "Sentence = data['_views']['_InitialView']['Sentence']\n",
    "# Set first sentence starting position 0\n",
    "Sentence[0]['begin'] = 0"
   ]
  },
  {
   "cell_type": "code",
   "execution_count": 37,
   "metadata": {},
   "outputs": [
    {
     "data": {
      "text/plain": [
       "[{'sofa': 1, 'end': 22, 'begin': 0},\n",
       " {'sofa': 1, 'begin': 24, 'end': 305},\n",
       " {'sofa': 1, 'begin': 307, 'end': 440},\n",
       " {'sofa': 1, 'begin': 441, 'end': 539},\n",
       " {'sofa': 1, 'begin': 541, 'end': 634},\n",
       " {'sofa': 1, 'begin': 635, 'end': 716},\n",
       " {'sofa': 1, 'begin': 718, 'end': 827},\n",
       " {'sofa': 1, 'begin': 829, 'end': 865},\n",
       " {'sofa': 1, 'begin': 867, 'end': 976},\n",
       " {'sofa': 1, 'begin': 978, 'end': 1033},\n",
       " {'sofa': 1, 'begin': 1035, 'end': 1087},\n",
       " {'sofa': 1, 'begin': 1089, 'end': 1179},\n",
       " {'sofa': 1, 'begin': 1180, 'end': 1227},\n",
       " {'sofa': 1, 'begin': 1229, 'end': 1297},\n",
       " {'sofa': 1, 'begin': 1299, 'end': 1420},\n",
       " {'sofa': 1, 'begin': 1420, 'end': 1421},\n",
       " {'sofa': 1, 'begin': 1423, 'end': 1493},\n",
       " {'sofa': 1, 'begin': 1495, 'end': 1552},\n",
       " {'sofa': 1, 'begin': 1554, 'end': 1661},\n",
       " {'sofa': 1, 'begin': 1663, 'end': 1753}]"
      ]
     },
     "execution_count": 37,
     "metadata": {},
     "output_type": "execute_result"
    }
   ],
   "source": [
    "Sentence"
   ]
  },
  {
   "cell_type": "code",
   "execution_count": 38,
   "metadata": {},
   "outputs": [],
   "source": [
    "sentences_list = []"
   ]
  },
  {
   "cell_type": "code",
   "execution_count": 39,
   "metadata": {},
   "outputs": [],
   "source": [
    "# Making sentence list\n",
    "for i in range(len(Sentence)):\n",
    "    sent = sentences_all[Sentence[i]['begin']:Sentence[i]['end']]\n",
    "    sentences_list.append(sent)"
   ]
  },
  {
   "cell_type": "code",
   "execution_count": 40,
   "metadata": {},
   "outputs": [
    {
     "data": {
      "text/plain": [
       "'BUSINESS DEVELOPMENT EXECUTIVE  ERP SOLUTIONS  Bileeta (PVT) Ltd, is an Award Winning Cloud Based Enterprise Resource Planning  solution (ERP) and eLogistic Supply Chain Management (eLMIS) solution provider  to small, medium to large organizations under the brand name of Entution.'"
      ]
     },
     "execution_count": 40,
     "metadata": {},
     "output_type": "execute_result"
    }
   ],
   "source": [
    "sentences_list[1]"
   ]
  },
  {
   "cell_type": "code",
   "execution_count": 41,
   "metadata": {},
   "outputs": [],
   "source": [
    "# Extract entity start, end positions and names\n",
    "ent_loc = data['_views']['_InitialView']['Name_Entity']"
   ]
  },
  {
   "cell_type": "code",
   "execution_count": 42,
   "metadata": {},
   "outputs": [],
   "source": [
    "#ent_loc"
   ]
  },
  {
   "cell_type": "code",
   "execution_count": 43,
   "metadata": {},
   "outputs": [],
   "source": [
    "# if 'begin' in not present create new key called begin and assign 0\n",
    "for i in range(len(ent_loc)):\n",
    "    #print(ent_loc[i])\n",
    "    if 'begin' not in ent_loc[i]:\n",
    "        ent_loc[i]['begin'] = 0\n",
    "       # print(ent_loc[i])"
   ]
  },
  {
   "cell_type": "code",
   "execution_count": 44,
   "metadata": {},
   "outputs": [],
   "source": [
    "#ent_loc"
   ]
  },
  {
   "cell_type": "code",
   "execution_count": 45,
   "metadata": {},
   "outputs": [],
   "source": [
    "# to save which entries should be deleted\n",
    "#delindex = []\n",
    "#for i in range(len(ent_loc)):\n",
    "    #print(ent_loc[i])\n",
    "#    if 'Entities' not in ent_loc[i]:\n",
    "#        delindex.append(i)\n",
    "\n",
    "#for i in range(len(delindex)):\n",
    "    #print(i)\n",
    "#    if i == 0:\n",
    "#        del ent_loc[delindex[0]]\n",
    "#    else:\n",
    "#        del ent_loc[delindex]\n",
    "\n",
    "for i in range(len(ent_loc)):\n",
    "    #print(ent_loc[i])\n",
    "    if 'Entities' not in ent_loc[i]:\n",
    "        ent_loc[i]['Entities'] = 'Not annotated'\n",
    "       # print(ent_loc[i])"
   ]
  },
  {
   "cell_type": "code",
   "execution_count": 46,
   "metadata": {},
   "outputs": [
    {
     "data": {
      "text/plain": [
       "[{'sofa': 1, 'begin': 24, 'end': 54, 'Entities': 'job_title'},\n",
       " {'sofa': 1, 'begin': 45, 'end': 54, 'Entities': 'title'},\n",
       " {'sofa': 1, 'begin': 71, 'end': 88, 'Entities': 'company'},\n",
       " {'sofa': 1, 'begin': 736, 'end': 747, 'Entities': 'res_skill'},\n",
       " {'sofa': 1, 'begin': 829, 'end': 836, 'Entities': 'res_skill'},\n",
       " {'sofa': 1, 'begin': 851, 'end': 864, 'Entities': 'res_skill'},\n",
       " {'sofa': 1, 'begin': 978, 'end': 990, 'Entities': 'res_skill'},\n",
       " {'sofa': 1, 'begin': 1166, 'end': 1168, 'Entities': 'specialization'},\n",
       " {'sofa': 1, 'begin': 1171, 'end': 1178, 'Entities': 'Not annotated'},\n",
       " {'sofa': 1, 'begin': 1193, 'end': 1205, 'Entities': 'qualification'},\n",
       " {'sofa': 1, 'begin': 1193, 'end': 1199, 'Entities': 'edu_level'},\n",
       " {'sofa': 1, 'begin': 1203, 'end': 1205, 'Entities': 'specialization'},\n",
       " {'sofa': 1, 'begin': 1208, 'end': 1215, 'Entities': 'specialization'},\n",
       " {'sofa': 1, 'begin': 1216, 'end': 1226, 'Entities': 'Not annotated'},\n",
       " {'sofa': 1, 'begin': 1229, 'end': 1262, 'Entities': 'qualification'},\n",
       " {'sofa': 1, 'begin': 1229, 'end': 1239, 'Entities': 'edu_level'},\n",
       " {'sofa': 1, 'begin': 1243, 'end': 1262, 'Entities': 'specialization'},\n",
       " {'sofa': 1, 'begin': 1286, 'end': 1289, 'Entities': 'qualification'},\n",
       " {'sofa': 1, 'begin': 1292, 'end': 1296, 'Entities': 'qualification'},\n",
       " {'sofa': 1, 'begin': 1433, 'end': 1454, 'Entities': 'years_experienced'},\n",
       " {'sofa': 1, 'begin': 1433, 'end': 1440, 'Entities': 'no_years'},\n",
       " {'sofa': 1, 'begin': 1574, 'end': 1590, 'Entities': 'res_skill'},\n",
       " {'sofa': 1, 'begin': 1592, 'end': 1610, 'Entities': 'res_skill'},\n",
       " {'sofa': 1, 'begin': 1617, 'end': 1637, 'Entities': 'res_skill'},\n",
       " {'sofa': 1, 'begin': 1641, 'end': 1660, 'Entities': 'res_skill'},\n",
       " {'sofa': 1, 'begin': 1680, 'end': 1699, 'Entities': 'email'}]"
      ]
     },
     "execution_count": 46,
     "metadata": {},
     "output_type": "execute_result"
    }
   ],
   "source": [
    "ent_loc"
   ]
  },
  {
   "cell_type": "code",
   "execution_count": 47,
   "metadata": {},
   "outputs": [],
   "source": [
    "TRAIN_DATA = []\n",
    "ent_list = []"
   ]
  },
  {
   "cell_type": "code",
   "execution_count": 48,
   "metadata": {},
   "outputs": [
    {
     "name": "stdout",
     "output_type": "stream",
     "text": [
      ".....................\n",
      "{'sofa': 1, 'end': 22, 'begin': 0}\n",
      ".....................\n",
      "{'sofa': 1, 'begin': 24, 'end': 54, 'Entities': 'job_title'}\n",
      "{'sofa': 1, 'begin': 45, 'end': 54, 'Entities': 'title'}\n",
      "{'sofa': 1, 'begin': 71, 'end': 88, 'Entities': 'company'}\n",
      "{'sofa': 1, 'begin': 736, 'end': 747, 'Entities': 'res_skill'}\n",
      "{'sofa': 1, 'begin': 829, 'end': 836, 'Entities': 'res_skill'}\n",
      "{'sofa': 1, 'begin': 851, 'end': 864, 'Entities': 'res_skill'}\n",
      "{'sofa': 1, 'begin': 978, 'end': 990, 'Entities': 'res_skill'}\n",
      "{'sofa': 1, 'begin': 1166, 'end': 1168, 'Entities': 'specialization'}\n",
      "{'sofa': 1, 'begin': 1171, 'end': 1178, 'Entities': 'Not annotated'}\n",
      "{'sofa': 1, 'begin': 1193, 'end': 1205, 'Entities': 'qualification'}\n",
      "{'sofa': 1, 'begin': 1193, 'end': 1199, 'Entities': 'edu_level'}\n",
      "{'sofa': 1, 'begin': 1203, 'end': 1205, 'Entities': 'specialization'}\n",
      "{'sofa': 1, 'begin': 1208, 'end': 1215, 'Entities': 'specialization'}\n",
      "{'sofa': 1, 'begin': 1216, 'end': 1226, 'Entities': 'Not annotated'}\n",
      "{'sofa': 1, 'begin': 1229, 'end': 1262, 'Entities': 'qualification'}\n",
      "{'sofa': 1, 'begin': 1229, 'end': 1239, 'Entities': 'edu_level'}\n",
      "{'sofa': 1, 'begin': 1243, 'end': 1262, 'Entities': 'specialization'}\n",
      "{'sofa': 1, 'begin': 1286, 'end': 1289, 'Entities': 'qualification'}\n",
      "{'sofa': 1, 'begin': 1292, 'end': 1296, 'Entities': 'qualification'}\n",
      "{'sofa': 1, 'begin': 1433, 'end': 1454, 'Entities': 'years_experienced'}\n",
      "{'sofa': 1, 'begin': 1433, 'end': 1440, 'Entities': 'no_years'}\n",
      "{'sofa': 1, 'begin': 1574, 'end': 1590, 'Entities': 'res_skill'}\n",
      "{'sofa': 1, 'begin': 1592, 'end': 1610, 'Entities': 'res_skill'}\n",
      "{'sofa': 1, 'begin': 1617, 'end': 1637, 'Entities': 'res_skill'}\n",
      "{'sofa': 1, 'begin': 1641, 'end': 1660, 'Entities': 'res_skill'}\n",
      "{'sofa': 1, 'begin': 1680, 'end': 1699, 'Entities': 'email'}\n",
      ".....................\n",
      "{'sofa': 1, 'begin': 24, 'end': 305}\n",
      ".....................\n",
      "{'sofa': 1, 'begin': 24, 'end': 54, 'Entities': 'job_title'}\n",
      "{'sofa': 1, 'begin': 45, 'end': 54, 'Entities': 'title'}\n",
      "{'sofa': 1, 'begin': 71, 'end': 88, 'Entities': 'company'}\n",
      "{'sofa': 1, 'begin': 736, 'end': 747, 'Entities': 'res_skill'}\n",
      "{'sofa': 1, 'begin': 829, 'end': 836, 'Entities': 'res_skill'}\n",
      "{'sofa': 1, 'begin': 851, 'end': 864, 'Entities': 'res_skill'}\n",
      "{'sofa': 1, 'begin': 978, 'end': 990, 'Entities': 'res_skill'}\n",
      "{'sofa': 1, 'begin': 1166, 'end': 1168, 'Entities': 'specialization'}\n",
      "{'sofa': 1, 'begin': 1171, 'end': 1178, 'Entities': 'Not annotated'}\n",
      "{'sofa': 1, 'begin': 1193, 'end': 1205, 'Entities': 'qualification'}\n",
      "{'sofa': 1, 'begin': 1193, 'end': 1199, 'Entities': 'edu_level'}\n",
      "{'sofa': 1, 'begin': 1203, 'end': 1205, 'Entities': 'specialization'}\n",
      "{'sofa': 1, 'begin': 1208, 'end': 1215, 'Entities': 'specialization'}\n",
      "{'sofa': 1, 'begin': 1216, 'end': 1226, 'Entities': 'Not annotated'}\n",
      "{'sofa': 1, 'begin': 1229, 'end': 1262, 'Entities': 'qualification'}\n",
      "{'sofa': 1, 'begin': 1229, 'end': 1239, 'Entities': 'edu_level'}\n",
      "{'sofa': 1, 'begin': 1243, 'end': 1262, 'Entities': 'specialization'}\n",
      "{'sofa': 1, 'begin': 1286, 'end': 1289, 'Entities': 'qualification'}\n",
      "{'sofa': 1, 'begin': 1292, 'end': 1296, 'Entities': 'qualification'}\n",
      "{'sofa': 1, 'begin': 1433, 'end': 1454, 'Entities': 'years_experienced'}\n",
      "{'sofa': 1, 'begin': 1433, 'end': 1440, 'Entities': 'no_years'}\n",
      "{'sofa': 1, 'begin': 1574, 'end': 1590, 'Entities': 'res_skill'}\n",
      "{'sofa': 1, 'begin': 1592, 'end': 1610, 'Entities': 'res_skill'}\n",
      "{'sofa': 1, 'begin': 1617, 'end': 1637, 'Entities': 'res_skill'}\n",
      "{'sofa': 1, 'begin': 1641, 'end': 1660, 'Entities': 'res_skill'}\n",
      "{'sofa': 1, 'begin': 1680, 'end': 1699, 'Entities': 'email'}\n",
      ".....................\n",
      "{'sofa': 1, 'begin': 307, 'end': 440}\n",
      ".....................\n",
      "{'sofa': 1, 'begin': 24, 'end': 54, 'Entities': 'job_title'}\n",
      "{'sofa': 1, 'begin': 45, 'end': 54, 'Entities': 'title'}\n",
      "{'sofa': 1, 'begin': 71, 'end': 88, 'Entities': 'company'}\n",
      "{'sofa': 1, 'begin': 736, 'end': 747, 'Entities': 'res_skill'}\n",
      "{'sofa': 1, 'begin': 829, 'end': 836, 'Entities': 'res_skill'}\n",
      "{'sofa': 1, 'begin': 851, 'end': 864, 'Entities': 'res_skill'}\n",
      "{'sofa': 1, 'begin': 978, 'end': 990, 'Entities': 'res_skill'}\n",
      "{'sofa': 1, 'begin': 1166, 'end': 1168, 'Entities': 'specialization'}\n",
      "{'sofa': 1, 'begin': 1171, 'end': 1178, 'Entities': 'Not annotated'}\n",
      "{'sofa': 1, 'begin': 1193, 'end': 1205, 'Entities': 'qualification'}\n",
      "{'sofa': 1, 'begin': 1193, 'end': 1199, 'Entities': 'edu_level'}\n",
      "{'sofa': 1, 'begin': 1203, 'end': 1205, 'Entities': 'specialization'}\n",
      "{'sofa': 1, 'begin': 1208, 'end': 1215, 'Entities': 'specialization'}\n",
      "{'sofa': 1, 'begin': 1216, 'end': 1226, 'Entities': 'Not annotated'}\n",
      "{'sofa': 1, 'begin': 1229, 'end': 1262, 'Entities': 'qualification'}\n",
      "{'sofa': 1, 'begin': 1229, 'end': 1239, 'Entities': 'edu_level'}\n",
      "{'sofa': 1, 'begin': 1243, 'end': 1262, 'Entities': 'specialization'}\n",
      "{'sofa': 1, 'begin': 1286, 'end': 1289, 'Entities': 'qualification'}\n",
      "{'sofa': 1, 'begin': 1292, 'end': 1296, 'Entities': 'qualification'}\n",
      "{'sofa': 1, 'begin': 1433, 'end': 1454, 'Entities': 'years_experienced'}\n",
      "{'sofa': 1, 'begin': 1433, 'end': 1440, 'Entities': 'no_years'}\n",
      "{'sofa': 1, 'begin': 1574, 'end': 1590, 'Entities': 'res_skill'}\n",
      "{'sofa': 1, 'begin': 1592, 'end': 1610, 'Entities': 'res_skill'}\n",
      "{'sofa': 1, 'begin': 1617, 'end': 1637, 'Entities': 'res_skill'}\n",
      "{'sofa': 1, 'begin': 1641, 'end': 1660, 'Entities': 'res_skill'}\n",
      "{'sofa': 1, 'begin': 1680, 'end': 1699, 'Entities': 'email'}\n",
      ".....................\n",
      "{'sofa': 1, 'begin': 441, 'end': 539}\n",
      ".....................\n",
      "{'sofa': 1, 'begin': 24, 'end': 54, 'Entities': 'job_title'}\n",
      "{'sofa': 1, 'begin': 45, 'end': 54, 'Entities': 'title'}\n",
      "{'sofa': 1, 'begin': 71, 'end': 88, 'Entities': 'company'}\n",
      "{'sofa': 1, 'begin': 736, 'end': 747, 'Entities': 'res_skill'}\n",
      "{'sofa': 1, 'begin': 829, 'end': 836, 'Entities': 'res_skill'}\n",
      "{'sofa': 1, 'begin': 851, 'end': 864, 'Entities': 'res_skill'}\n",
      "{'sofa': 1, 'begin': 978, 'end': 990, 'Entities': 'res_skill'}\n",
      "{'sofa': 1, 'begin': 1166, 'end': 1168, 'Entities': 'specialization'}\n",
      "{'sofa': 1, 'begin': 1171, 'end': 1178, 'Entities': 'Not annotated'}\n",
      "{'sofa': 1, 'begin': 1193, 'end': 1205, 'Entities': 'qualification'}\n",
      "{'sofa': 1, 'begin': 1193, 'end': 1199, 'Entities': 'edu_level'}\n",
      "{'sofa': 1, 'begin': 1203, 'end': 1205, 'Entities': 'specialization'}\n",
      "{'sofa': 1, 'begin': 1208, 'end': 1215, 'Entities': 'specialization'}\n",
      "{'sofa': 1, 'begin': 1216, 'end': 1226, 'Entities': 'Not annotated'}\n",
      "{'sofa': 1, 'begin': 1229, 'end': 1262, 'Entities': 'qualification'}\n",
      "{'sofa': 1, 'begin': 1229, 'end': 1239, 'Entities': 'edu_level'}\n",
      "{'sofa': 1, 'begin': 1243, 'end': 1262, 'Entities': 'specialization'}\n",
      "{'sofa': 1, 'begin': 1286, 'end': 1289, 'Entities': 'qualification'}\n",
      "{'sofa': 1, 'begin': 1292, 'end': 1296, 'Entities': 'qualification'}\n",
      "{'sofa': 1, 'begin': 1433, 'end': 1454, 'Entities': 'years_experienced'}\n",
      "{'sofa': 1, 'begin': 1433, 'end': 1440, 'Entities': 'no_years'}\n",
      "{'sofa': 1, 'begin': 1574, 'end': 1590, 'Entities': 'res_skill'}\n",
      "{'sofa': 1, 'begin': 1592, 'end': 1610, 'Entities': 'res_skill'}\n",
      "{'sofa': 1, 'begin': 1617, 'end': 1637, 'Entities': 'res_skill'}\n",
      "{'sofa': 1, 'begin': 1641, 'end': 1660, 'Entities': 'res_skill'}\n",
      "{'sofa': 1, 'begin': 1680, 'end': 1699, 'Entities': 'email'}\n",
      ".....................\n",
      "{'sofa': 1, 'begin': 541, 'end': 634}\n",
      ".....................\n",
      "{'sofa': 1, 'begin': 24, 'end': 54, 'Entities': 'job_title'}\n",
      "{'sofa': 1, 'begin': 45, 'end': 54, 'Entities': 'title'}\n",
      "{'sofa': 1, 'begin': 71, 'end': 88, 'Entities': 'company'}\n",
      "{'sofa': 1, 'begin': 736, 'end': 747, 'Entities': 'res_skill'}\n",
      "{'sofa': 1, 'begin': 829, 'end': 836, 'Entities': 'res_skill'}\n",
      "{'sofa': 1, 'begin': 851, 'end': 864, 'Entities': 'res_skill'}\n",
      "{'sofa': 1, 'begin': 978, 'end': 990, 'Entities': 'res_skill'}\n",
      "{'sofa': 1, 'begin': 1166, 'end': 1168, 'Entities': 'specialization'}\n",
      "{'sofa': 1, 'begin': 1171, 'end': 1178, 'Entities': 'Not annotated'}\n",
      "{'sofa': 1, 'begin': 1193, 'end': 1205, 'Entities': 'qualification'}\n",
      "{'sofa': 1, 'begin': 1193, 'end': 1199, 'Entities': 'edu_level'}\n",
      "{'sofa': 1, 'begin': 1203, 'end': 1205, 'Entities': 'specialization'}\n",
      "{'sofa': 1, 'begin': 1208, 'end': 1215, 'Entities': 'specialization'}\n",
      "{'sofa': 1, 'begin': 1216, 'end': 1226, 'Entities': 'Not annotated'}\n",
      "{'sofa': 1, 'begin': 1229, 'end': 1262, 'Entities': 'qualification'}\n",
      "{'sofa': 1, 'begin': 1229, 'end': 1239, 'Entities': 'edu_level'}\n",
      "{'sofa': 1, 'begin': 1243, 'end': 1262, 'Entities': 'specialization'}\n",
      "{'sofa': 1, 'begin': 1286, 'end': 1289, 'Entities': 'qualification'}\n",
      "{'sofa': 1, 'begin': 1292, 'end': 1296, 'Entities': 'qualification'}\n",
      "{'sofa': 1, 'begin': 1433, 'end': 1454, 'Entities': 'years_experienced'}\n",
      "{'sofa': 1, 'begin': 1433, 'end': 1440, 'Entities': 'no_years'}\n",
      "{'sofa': 1, 'begin': 1574, 'end': 1590, 'Entities': 'res_skill'}\n",
      "{'sofa': 1, 'begin': 1592, 'end': 1610, 'Entities': 'res_skill'}\n",
      "{'sofa': 1, 'begin': 1617, 'end': 1637, 'Entities': 'res_skill'}\n",
      "{'sofa': 1, 'begin': 1641, 'end': 1660, 'Entities': 'res_skill'}\n",
      "{'sofa': 1, 'begin': 1680, 'end': 1699, 'Entities': 'email'}\n",
      ".....................\n",
      "{'sofa': 1, 'begin': 635, 'end': 716}\n",
      ".....................\n",
      "{'sofa': 1, 'begin': 24, 'end': 54, 'Entities': 'job_title'}\n",
      "{'sofa': 1, 'begin': 45, 'end': 54, 'Entities': 'title'}\n",
      "{'sofa': 1, 'begin': 71, 'end': 88, 'Entities': 'company'}\n",
      "{'sofa': 1, 'begin': 736, 'end': 747, 'Entities': 'res_skill'}\n",
      "{'sofa': 1, 'begin': 829, 'end': 836, 'Entities': 'res_skill'}\n",
      "{'sofa': 1, 'begin': 851, 'end': 864, 'Entities': 'res_skill'}\n",
      "{'sofa': 1, 'begin': 978, 'end': 990, 'Entities': 'res_skill'}\n",
      "{'sofa': 1, 'begin': 1166, 'end': 1168, 'Entities': 'specialization'}\n",
      "{'sofa': 1, 'begin': 1171, 'end': 1178, 'Entities': 'Not annotated'}\n",
      "{'sofa': 1, 'begin': 1193, 'end': 1205, 'Entities': 'qualification'}\n",
      "{'sofa': 1, 'begin': 1193, 'end': 1199, 'Entities': 'edu_level'}\n",
      "{'sofa': 1, 'begin': 1203, 'end': 1205, 'Entities': 'specialization'}\n",
      "{'sofa': 1, 'begin': 1208, 'end': 1215, 'Entities': 'specialization'}\n",
      "{'sofa': 1, 'begin': 1216, 'end': 1226, 'Entities': 'Not annotated'}\n",
      "{'sofa': 1, 'begin': 1229, 'end': 1262, 'Entities': 'qualification'}\n",
      "{'sofa': 1, 'begin': 1229, 'end': 1239, 'Entities': 'edu_level'}\n",
      "{'sofa': 1, 'begin': 1243, 'end': 1262, 'Entities': 'specialization'}\n",
      "{'sofa': 1, 'begin': 1286, 'end': 1289, 'Entities': 'qualification'}\n",
      "{'sofa': 1, 'begin': 1292, 'end': 1296, 'Entities': 'qualification'}\n",
      "{'sofa': 1, 'begin': 1433, 'end': 1454, 'Entities': 'years_experienced'}\n",
      "{'sofa': 1, 'begin': 1433, 'end': 1440, 'Entities': 'no_years'}\n",
      "{'sofa': 1, 'begin': 1574, 'end': 1590, 'Entities': 'res_skill'}\n",
      "{'sofa': 1, 'begin': 1592, 'end': 1610, 'Entities': 'res_skill'}\n",
      "{'sofa': 1, 'begin': 1617, 'end': 1637, 'Entities': 'res_skill'}\n",
      "{'sofa': 1, 'begin': 1641, 'end': 1660, 'Entities': 'res_skill'}\n",
      "{'sofa': 1, 'begin': 1680, 'end': 1699, 'Entities': 'email'}\n",
      ".....................\n",
      "{'sofa': 1, 'begin': 718, 'end': 827}\n",
      ".....................\n",
      "{'sofa': 1, 'begin': 24, 'end': 54, 'Entities': 'job_title'}\n",
      "{'sofa': 1, 'begin': 45, 'end': 54, 'Entities': 'title'}\n",
      "{'sofa': 1, 'begin': 71, 'end': 88, 'Entities': 'company'}\n",
      "{'sofa': 1, 'begin': 736, 'end': 747, 'Entities': 'res_skill'}\n",
      "{'sofa': 1, 'begin': 829, 'end': 836, 'Entities': 'res_skill'}\n",
      "{'sofa': 1, 'begin': 851, 'end': 864, 'Entities': 'res_skill'}\n",
      "{'sofa': 1, 'begin': 978, 'end': 990, 'Entities': 'res_skill'}\n",
      "{'sofa': 1, 'begin': 1166, 'end': 1168, 'Entities': 'specialization'}\n",
      "{'sofa': 1, 'begin': 1171, 'end': 1178, 'Entities': 'Not annotated'}\n",
      "{'sofa': 1, 'begin': 1193, 'end': 1205, 'Entities': 'qualification'}\n",
      "{'sofa': 1, 'begin': 1193, 'end': 1199, 'Entities': 'edu_level'}\n",
      "{'sofa': 1, 'begin': 1203, 'end': 1205, 'Entities': 'specialization'}\n",
      "{'sofa': 1, 'begin': 1208, 'end': 1215, 'Entities': 'specialization'}\n",
      "{'sofa': 1, 'begin': 1216, 'end': 1226, 'Entities': 'Not annotated'}\n",
      "{'sofa': 1, 'begin': 1229, 'end': 1262, 'Entities': 'qualification'}\n",
      "{'sofa': 1, 'begin': 1229, 'end': 1239, 'Entities': 'edu_level'}\n",
      "{'sofa': 1, 'begin': 1243, 'end': 1262, 'Entities': 'specialization'}\n",
      "{'sofa': 1, 'begin': 1286, 'end': 1289, 'Entities': 'qualification'}\n",
      "{'sofa': 1, 'begin': 1292, 'end': 1296, 'Entities': 'qualification'}\n",
      "{'sofa': 1, 'begin': 1433, 'end': 1454, 'Entities': 'years_experienced'}\n",
      "{'sofa': 1, 'begin': 1433, 'end': 1440, 'Entities': 'no_years'}\n",
      "{'sofa': 1, 'begin': 1574, 'end': 1590, 'Entities': 'res_skill'}\n",
      "{'sofa': 1, 'begin': 1592, 'end': 1610, 'Entities': 'res_skill'}\n",
      "{'sofa': 1, 'begin': 1617, 'end': 1637, 'Entities': 'res_skill'}\n",
      "{'sofa': 1, 'begin': 1641, 'end': 1660, 'Entities': 'res_skill'}\n",
      "{'sofa': 1, 'begin': 1680, 'end': 1699, 'Entities': 'email'}\n",
      ".....................\n",
      "{'sofa': 1, 'begin': 829, 'end': 865}\n",
      ".....................\n",
      "{'sofa': 1, 'begin': 24, 'end': 54, 'Entities': 'job_title'}\n",
      "{'sofa': 1, 'begin': 45, 'end': 54, 'Entities': 'title'}\n",
      "{'sofa': 1, 'begin': 71, 'end': 88, 'Entities': 'company'}\n",
      "{'sofa': 1, 'begin': 736, 'end': 747, 'Entities': 'res_skill'}\n",
      "{'sofa': 1, 'begin': 829, 'end': 836, 'Entities': 'res_skill'}\n",
      "{'sofa': 1, 'begin': 851, 'end': 864, 'Entities': 'res_skill'}\n",
      "{'sofa': 1, 'begin': 978, 'end': 990, 'Entities': 'res_skill'}\n",
      "{'sofa': 1, 'begin': 1166, 'end': 1168, 'Entities': 'specialization'}\n",
      "{'sofa': 1, 'begin': 1171, 'end': 1178, 'Entities': 'Not annotated'}\n",
      "{'sofa': 1, 'begin': 1193, 'end': 1205, 'Entities': 'qualification'}\n",
      "{'sofa': 1, 'begin': 1193, 'end': 1199, 'Entities': 'edu_level'}\n",
      "{'sofa': 1, 'begin': 1203, 'end': 1205, 'Entities': 'specialization'}\n",
      "{'sofa': 1, 'begin': 1208, 'end': 1215, 'Entities': 'specialization'}\n",
      "{'sofa': 1, 'begin': 1216, 'end': 1226, 'Entities': 'Not annotated'}\n",
      "{'sofa': 1, 'begin': 1229, 'end': 1262, 'Entities': 'qualification'}\n",
      "{'sofa': 1, 'begin': 1229, 'end': 1239, 'Entities': 'edu_level'}\n",
      "{'sofa': 1, 'begin': 1243, 'end': 1262, 'Entities': 'specialization'}\n",
      "{'sofa': 1, 'begin': 1286, 'end': 1289, 'Entities': 'qualification'}\n",
      "{'sofa': 1, 'begin': 1292, 'end': 1296, 'Entities': 'qualification'}\n",
      "{'sofa': 1, 'begin': 1433, 'end': 1454, 'Entities': 'years_experienced'}\n",
      "{'sofa': 1, 'begin': 1433, 'end': 1440, 'Entities': 'no_years'}\n",
      "{'sofa': 1, 'begin': 1574, 'end': 1590, 'Entities': 'res_skill'}\n",
      "{'sofa': 1, 'begin': 1592, 'end': 1610, 'Entities': 'res_skill'}\n",
      "{'sofa': 1, 'begin': 1617, 'end': 1637, 'Entities': 'res_skill'}\n",
      "{'sofa': 1, 'begin': 1641, 'end': 1660, 'Entities': 'res_skill'}\n",
      "{'sofa': 1, 'begin': 1680, 'end': 1699, 'Entities': 'email'}\n",
      ".....................\n",
      "{'sofa': 1, 'begin': 867, 'end': 976}\n",
      ".....................\n",
      "{'sofa': 1, 'begin': 24, 'end': 54, 'Entities': 'job_title'}\n",
      "{'sofa': 1, 'begin': 45, 'end': 54, 'Entities': 'title'}\n",
      "{'sofa': 1, 'begin': 71, 'end': 88, 'Entities': 'company'}\n",
      "{'sofa': 1, 'begin': 736, 'end': 747, 'Entities': 'res_skill'}\n",
      "{'sofa': 1, 'begin': 829, 'end': 836, 'Entities': 'res_skill'}\n",
      "{'sofa': 1, 'begin': 851, 'end': 864, 'Entities': 'res_skill'}\n",
      "{'sofa': 1, 'begin': 978, 'end': 990, 'Entities': 'res_skill'}\n",
      "{'sofa': 1, 'begin': 1166, 'end': 1168, 'Entities': 'specialization'}\n",
      "{'sofa': 1, 'begin': 1171, 'end': 1178, 'Entities': 'Not annotated'}\n",
      "{'sofa': 1, 'begin': 1193, 'end': 1205, 'Entities': 'qualification'}\n",
      "{'sofa': 1, 'begin': 1193, 'end': 1199, 'Entities': 'edu_level'}\n",
      "{'sofa': 1, 'begin': 1203, 'end': 1205, 'Entities': 'specialization'}\n",
      "{'sofa': 1, 'begin': 1208, 'end': 1215, 'Entities': 'specialization'}\n",
      "{'sofa': 1, 'begin': 1216, 'end': 1226, 'Entities': 'Not annotated'}\n",
      "{'sofa': 1, 'begin': 1229, 'end': 1262, 'Entities': 'qualification'}\n",
      "{'sofa': 1, 'begin': 1229, 'end': 1239, 'Entities': 'edu_level'}\n",
      "{'sofa': 1, 'begin': 1243, 'end': 1262, 'Entities': 'specialization'}\n",
      "{'sofa': 1, 'begin': 1286, 'end': 1289, 'Entities': 'qualification'}\n",
      "{'sofa': 1, 'begin': 1292, 'end': 1296, 'Entities': 'qualification'}\n",
      "{'sofa': 1, 'begin': 1433, 'end': 1454, 'Entities': 'years_experienced'}\n",
      "{'sofa': 1, 'begin': 1433, 'end': 1440, 'Entities': 'no_years'}\n",
      "{'sofa': 1, 'begin': 1574, 'end': 1590, 'Entities': 'res_skill'}\n",
      "{'sofa': 1, 'begin': 1592, 'end': 1610, 'Entities': 'res_skill'}\n",
      "{'sofa': 1, 'begin': 1617, 'end': 1637, 'Entities': 'res_skill'}\n",
      "{'sofa': 1, 'begin': 1641, 'end': 1660, 'Entities': 'res_skill'}\n",
      "{'sofa': 1, 'begin': 1680, 'end': 1699, 'Entities': 'email'}\n",
      ".....................\n",
      "{'sofa': 1, 'begin': 978, 'end': 1033}\n",
      ".....................\n",
      "{'sofa': 1, 'begin': 24, 'end': 54, 'Entities': 'job_title'}\n",
      "{'sofa': 1, 'begin': 45, 'end': 54, 'Entities': 'title'}\n",
      "{'sofa': 1, 'begin': 71, 'end': 88, 'Entities': 'company'}\n",
      "{'sofa': 1, 'begin': 736, 'end': 747, 'Entities': 'res_skill'}\n",
      "{'sofa': 1, 'begin': 829, 'end': 836, 'Entities': 'res_skill'}\n",
      "{'sofa': 1, 'begin': 851, 'end': 864, 'Entities': 'res_skill'}\n",
      "{'sofa': 1, 'begin': 978, 'end': 990, 'Entities': 'res_skill'}\n",
      "{'sofa': 1, 'begin': 1166, 'end': 1168, 'Entities': 'specialization'}\n",
      "{'sofa': 1, 'begin': 1171, 'end': 1178, 'Entities': 'Not annotated'}\n",
      "{'sofa': 1, 'begin': 1193, 'end': 1205, 'Entities': 'qualification'}\n",
      "{'sofa': 1, 'begin': 1193, 'end': 1199, 'Entities': 'edu_level'}\n",
      "{'sofa': 1, 'begin': 1203, 'end': 1205, 'Entities': 'specialization'}\n",
      "{'sofa': 1, 'begin': 1208, 'end': 1215, 'Entities': 'specialization'}\n",
      "{'sofa': 1, 'begin': 1216, 'end': 1226, 'Entities': 'Not annotated'}\n",
      "{'sofa': 1, 'begin': 1229, 'end': 1262, 'Entities': 'qualification'}\n",
      "{'sofa': 1, 'begin': 1229, 'end': 1239, 'Entities': 'edu_level'}\n",
      "{'sofa': 1, 'begin': 1243, 'end': 1262, 'Entities': 'specialization'}\n",
      "{'sofa': 1, 'begin': 1286, 'end': 1289, 'Entities': 'qualification'}\n",
      "{'sofa': 1, 'begin': 1292, 'end': 1296, 'Entities': 'qualification'}\n",
      "{'sofa': 1, 'begin': 1433, 'end': 1454, 'Entities': 'years_experienced'}\n",
      "{'sofa': 1, 'begin': 1433, 'end': 1440, 'Entities': 'no_years'}\n",
      "{'sofa': 1, 'begin': 1574, 'end': 1590, 'Entities': 'res_skill'}\n",
      "{'sofa': 1, 'begin': 1592, 'end': 1610, 'Entities': 'res_skill'}\n",
      "{'sofa': 1, 'begin': 1617, 'end': 1637, 'Entities': 'res_skill'}\n",
      "{'sofa': 1, 'begin': 1641, 'end': 1660, 'Entities': 'res_skill'}\n",
      "{'sofa': 1, 'begin': 1680, 'end': 1699, 'Entities': 'email'}\n",
      ".....................\n",
      "{'sofa': 1, 'begin': 1035, 'end': 1087}\n",
      ".....................\n",
      "{'sofa': 1, 'begin': 24, 'end': 54, 'Entities': 'job_title'}\n",
      "{'sofa': 1, 'begin': 45, 'end': 54, 'Entities': 'title'}\n",
      "{'sofa': 1, 'begin': 71, 'end': 88, 'Entities': 'company'}\n",
      "{'sofa': 1, 'begin': 736, 'end': 747, 'Entities': 'res_skill'}\n",
      "{'sofa': 1, 'begin': 829, 'end': 836, 'Entities': 'res_skill'}\n",
      "{'sofa': 1, 'begin': 851, 'end': 864, 'Entities': 'res_skill'}\n",
      "{'sofa': 1, 'begin': 978, 'end': 990, 'Entities': 'res_skill'}\n",
      "{'sofa': 1, 'begin': 1166, 'end': 1168, 'Entities': 'specialization'}\n",
      "{'sofa': 1, 'begin': 1171, 'end': 1178, 'Entities': 'Not annotated'}\n",
      "{'sofa': 1, 'begin': 1193, 'end': 1205, 'Entities': 'qualification'}\n",
      "{'sofa': 1, 'begin': 1193, 'end': 1199, 'Entities': 'edu_level'}\n",
      "{'sofa': 1, 'begin': 1203, 'end': 1205, 'Entities': 'specialization'}\n",
      "{'sofa': 1, 'begin': 1208, 'end': 1215, 'Entities': 'specialization'}\n",
      "{'sofa': 1, 'begin': 1216, 'end': 1226, 'Entities': 'Not annotated'}\n",
      "{'sofa': 1, 'begin': 1229, 'end': 1262, 'Entities': 'qualification'}\n",
      "{'sofa': 1, 'begin': 1229, 'end': 1239, 'Entities': 'edu_level'}\n",
      "{'sofa': 1, 'begin': 1243, 'end': 1262, 'Entities': 'specialization'}\n",
      "{'sofa': 1, 'begin': 1286, 'end': 1289, 'Entities': 'qualification'}\n",
      "{'sofa': 1, 'begin': 1292, 'end': 1296, 'Entities': 'qualification'}\n",
      "{'sofa': 1, 'begin': 1433, 'end': 1454, 'Entities': 'years_experienced'}\n",
      "{'sofa': 1, 'begin': 1433, 'end': 1440, 'Entities': 'no_years'}\n",
      "{'sofa': 1, 'begin': 1574, 'end': 1590, 'Entities': 'res_skill'}\n",
      "{'sofa': 1, 'begin': 1592, 'end': 1610, 'Entities': 'res_skill'}\n",
      "{'sofa': 1, 'begin': 1617, 'end': 1637, 'Entities': 'res_skill'}\n",
      "{'sofa': 1, 'begin': 1641, 'end': 1660, 'Entities': 'res_skill'}\n",
      "{'sofa': 1, 'begin': 1680, 'end': 1699, 'Entities': 'email'}\n",
      ".....................\n",
      "{'sofa': 1, 'begin': 1089, 'end': 1179}\n",
      ".....................\n",
      "{'sofa': 1, 'begin': 24, 'end': 54, 'Entities': 'job_title'}\n",
      "{'sofa': 1, 'begin': 45, 'end': 54, 'Entities': 'title'}\n",
      "{'sofa': 1, 'begin': 71, 'end': 88, 'Entities': 'company'}\n",
      "{'sofa': 1, 'begin': 736, 'end': 747, 'Entities': 'res_skill'}\n",
      "{'sofa': 1, 'begin': 829, 'end': 836, 'Entities': 'res_skill'}\n",
      "{'sofa': 1, 'begin': 851, 'end': 864, 'Entities': 'res_skill'}\n",
      "{'sofa': 1, 'begin': 978, 'end': 990, 'Entities': 'res_skill'}\n",
      "{'sofa': 1, 'begin': 1166, 'end': 1168, 'Entities': 'specialization'}\n",
      "{'sofa': 1, 'begin': 1171, 'end': 1178, 'Entities': 'Not annotated'}\n",
      "{'sofa': 1, 'begin': 1193, 'end': 1205, 'Entities': 'qualification'}\n",
      "{'sofa': 1, 'begin': 1193, 'end': 1199, 'Entities': 'edu_level'}\n",
      "{'sofa': 1, 'begin': 1203, 'end': 1205, 'Entities': 'specialization'}\n",
      "{'sofa': 1, 'begin': 1208, 'end': 1215, 'Entities': 'specialization'}\n",
      "{'sofa': 1, 'begin': 1216, 'end': 1226, 'Entities': 'Not annotated'}\n",
      "{'sofa': 1, 'begin': 1229, 'end': 1262, 'Entities': 'qualification'}\n",
      "{'sofa': 1, 'begin': 1229, 'end': 1239, 'Entities': 'edu_level'}\n",
      "{'sofa': 1, 'begin': 1243, 'end': 1262, 'Entities': 'specialization'}\n",
      "{'sofa': 1, 'begin': 1286, 'end': 1289, 'Entities': 'qualification'}\n",
      "{'sofa': 1, 'begin': 1292, 'end': 1296, 'Entities': 'qualification'}\n",
      "{'sofa': 1, 'begin': 1433, 'end': 1454, 'Entities': 'years_experienced'}\n",
      "{'sofa': 1, 'begin': 1433, 'end': 1440, 'Entities': 'no_years'}\n",
      "{'sofa': 1, 'begin': 1574, 'end': 1590, 'Entities': 'res_skill'}\n",
      "{'sofa': 1, 'begin': 1592, 'end': 1610, 'Entities': 'res_skill'}\n",
      "{'sofa': 1, 'begin': 1617, 'end': 1637, 'Entities': 'res_skill'}\n",
      "{'sofa': 1, 'begin': 1641, 'end': 1660, 'Entities': 'res_skill'}\n",
      "{'sofa': 1, 'begin': 1680, 'end': 1699, 'Entities': 'email'}\n",
      ".....................\n",
      "{'sofa': 1, 'begin': 1180, 'end': 1227}\n",
      ".....................\n",
      "{'sofa': 1, 'begin': 24, 'end': 54, 'Entities': 'job_title'}\n",
      "{'sofa': 1, 'begin': 45, 'end': 54, 'Entities': 'title'}\n",
      "{'sofa': 1, 'begin': 71, 'end': 88, 'Entities': 'company'}\n",
      "{'sofa': 1, 'begin': 736, 'end': 747, 'Entities': 'res_skill'}\n",
      "{'sofa': 1, 'begin': 829, 'end': 836, 'Entities': 'res_skill'}\n",
      "{'sofa': 1, 'begin': 851, 'end': 864, 'Entities': 'res_skill'}\n",
      "{'sofa': 1, 'begin': 978, 'end': 990, 'Entities': 'res_skill'}\n",
      "{'sofa': 1, 'begin': 1166, 'end': 1168, 'Entities': 'specialization'}\n",
      "{'sofa': 1, 'begin': 1171, 'end': 1178, 'Entities': 'Not annotated'}\n",
      "{'sofa': 1, 'begin': 1193, 'end': 1205, 'Entities': 'qualification'}\n",
      "{'sofa': 1, 'begin': 1193, 'end': 1199, 'Entities': 'edu_level'}\n",
      "{'sofa': 1, 'begin': 1203, 'end': 1205, 'Entities': 'specialization'}\n",
      "{'sofa': 1, 'begin': 1208, 'end': 1215, 'Entities': 'specialization'}\n",
      "{'sofa': 1, 'begin': 1216, 'end': 1226, 'Entities': 'Not annotated'}\n",
      "{'sofa': 1, 'begin': 1229, 'end': 1262, 'Entities': 'qualification'}\n",
      "{'sofa': 1, 'begin': 1229, 'end': 1239, 'Entities': 'edu_level'}\n",
      "{'sofa': 1, 'begin': 1243, 'end': 1262, 'Entities': 'specialization'}\n",
      "{'sofa': 1, 'begin': 1286, 'end': 1289, 'Entities': 'qualification'}\n",
      "{'sofa': 1, 'begin': 1292, 'end': 1296, 'Entities': 'qualification'}\n",
      "{'sofa': 1, 'begin': 1433, 'end': 1454, 'Entities': 'years_experienced'}\n",
      "{'sofa': 1, 'begin': 1433, 'end': 1440, 'Entities': 'no_years'}\n",
      "{'sofa': 1, 'begin': 1574, 'end': 1590, 'Entities': 'res_skill'}\n",
      "{'sofa': 1, 'begin': 1592, 'end': 1610, 'Entities': 'res_skill'}\n",
      "{'sofa': 1, 'begin': 1617, 'end': 1637, 'Entities': 'res_skill'}\n",
      "{'sofa': 1, 'begin': 1641, 'end': 1660, 'Entities': 'res_skill'}\n",
      "{'sofa': 1, 'begin': 1680, 'end': 1699, 'Entities': 'email'}\n",
      ".....................\n",
      "{'sofa': 1, 'begin': 1229, 'end': 1297}\n",
      ".....................\n",
      "{'sofa': 1, 'begin': 24, 'end': 54, 'Entities': 'job_title'}\n",
      "{'sofa': 1, 'begin': 45, 'end': 54, 'Entities': 'title'}\n",
      "{'sofa': 1, 'begin': 71, 'end': 88, 'Entities': 'company'}\n",
      "{'sofa': 1, 'begin': 736, 'end': 747, 'Entities': 'res_skill'}\n",
      "{'sofa': 1, 'begin': 829, 'end': 836, 'Entities': 'res_skill'}\n",
      "{'sofa': 1, 'begin': 851, 'end': 864, 'Entities': 'res_skill'}\n",
      "{'sofa': 1, 'begin': 978, 'end': 990, 'Entities': 'res_skill'}\n",
      "{'sofa': 1, 'begin': 1166, 'end': 1168, 'Entities': 'specialization'}\n",
      "{'sofa': 1, 'begin': 1171, 'end': 1178, 'Entities': 'Not annotated'}\n",
      "{'sofa': 1, 'begin': 1193, 'end': 1205, 'Entities': 'qualification'}\n",
      "{'sofa': 1, 'begin': 1193, 'end': 1199, 'Entities': 'edu_level'}\n",
      "{'sofa': 1, 'begin': 1203, 'end': 1205, 'Entities': 'specialization'}\n",
      "{'sofa': 1, 'begin': 1208, 'end': 1215, 'Entities': 'specialization'}\n",
      "{'sofa': 1, 'begin': 1216, 'end': 1226, 'Entities': 'Not annotated'}\n",
      "{'sofa': 1, 'begin': 1229, 'end': 1262, 'Entities': 'qualification'}\n",
      "{'sofa': 1, 'begin': 1229, 'end': 1239, 'Entities': 'edu_level'}\n",
      "{'sofa': 1, 'begin': 1243, 'end': 1262, 'Entities': 'specialization'}\n",
      "{'sofa': 1, 'begin': 1286, 'end': 1289, 'Entities': 'qualification'}\n",
      "{'sofa': 1, 'begin': 1292, 'end': 1296, 'Entities': 'qualification'}\n",
      "{'sofa': 1, 'begin': 1433, 'end': 1454, 'Entities': 'years_experienced'}\n",
      "{'sofa': 1, 'begin': 1433, 'end': 1440, 'Entities': 'no_years'}\n",
      "{'sofa': 1, 'begin': 1574, 'end': 1590, 'Entities': 'res_skill'}\n",
      "{'sofa': 1, 'begin': 1592, 'end': 1610, 'Entities': 'res_skill'}\n",
      "{'sofa': 1, 'begin': 1617, 'end': 1637, 'Entities': 'res_skill'}\n",
      "{'sofa': 1, 'begin': 1641, 'end': 1660, 'Entities': 'res_skill'}\n",
      "{'sofa': 1, 'begin': 1680, 'end': 1699, 'Entities': 'email'}\n",
      ".....................\n",
      "{'sofa': 1, 'begin': 1299, 'end': 1420}\n",
      ".....................\n",
      "{'sofa': 1, 'begin': 24, 'end': 54, 'Entities': 'job_title'}\n",
      "{'sofa': 1, 'begin': 45, 'end': 54, 'Entities': 'title'}\n",
      "{'sofa': 1, 'begin': 71, 'end': 88, 'Entities': 'company'}\n",
      "{'sofa': 1, 'begin': 736, 'end': 747, 'Entities': 'res_skill'}\n",
      "{'sofa': 1, 'begin': 829, 'end': 836, 'Entities': 'res_skill'}\n",
      "{'sofa': 1, 'begin': 851, 'end': 864, 'Entities': 'res_skill'}\n",
      "{'sofa': 1, 'begin': 978, 'end': 990, 'Entities': 'res_skill'}\n",
      "{'sofa': 1, 'begin': 1166, 'end': 1168, 'Entities': 'specialization'}\n",
      "{'sofa': 1, 'begin': 1171, 'end': 1178, 'Entities': 'Not annotated'}\n",
      "{'sofa': 1, 'begin': 1193, 'end': 1205, 'Entities': 'qualification'}\n",
      "{'sofa': 1, 'begin': 1193, 'end': 1199, 'Entities': 'edu_level'}\n",
      "{'sofa': 1, 'begin': 1203, 'end': 1205, 'Entities': 'specialization'}\n",
      "{'sofa': 1, 'begin': 1208, 'end': 1215, 'Entities': 'specialization'}\n",
      "{'sofa': 1, 'begin': 1216, 'end': 1226, 'Entities': 'Not annotated'}\n",
      "{'sofa': 1, 'begin': 1229, 'end': 1262, 'Entities': 'qualification'}\n",
      "{'sofa': 1, 'begin': 1229, 'end': 1239, 'Entities': 'edu_level'}\n",
      "{'sofa': 1, 'begin': 1243, 'end': 1262, 'Entities': 'specialization'}\n",
      "{'sofa': 1, 'begin': 1286, 'end': 1289, 'Entities': 'qualification'}\n",
      "{'sofa': 1, 'begin': 1292, 'end': 1296, 'Entities': 'qualification'}\n",
      "{'sofa': 1, 'begin': 1433, 'end': 1454, 'Entities': 'years_experienced'}\n",
      "{'sofa': 1, 'begin': 1433, 'end': 1440, 'Entities': 'no_years'}\n",
      "{'sofa': 1, 'begin': 1574, 'end': 1590, 'Entities': 'res_skill'}\n",
      "{'sofa': 1, 'begin': 1592, 'end': 1610, 'Entities': 'res_skill'}\n",
      "{'sofa': 1, 'begin': 1617, 'end': 1637, 'Entities': 'res_skill'}\n",
      "{'sofa': 1, 'begin': 1641, 'end': 1660, 'Entities': 'res_skill'}\n",
      "{'sofa': 1, 'begin': 1680, 'end': 1699, 'Entities': 'email'}\n",
      ".....................\n",
      "{'sofa': 1, 'begin': 1420, 'end': 1421}\n",
      ".....................\n",
      "{'sofa': 1, 'begin': 24, 'end': 54, 'Entities': 'job_title'}\n",
      "{'sofa': 1, 'begin': 45, 'end': 54, 'Entities': 'title'}\n",
      "{'sofa': 1, 'begin': 71, 'end': 88, 'Entities': 'company'}\n",
      "{'sofa': 1, 'begin': 736, 'end': 747, 'Entities': 'res_skill'}\n",
      "{'sofa': 1, 'begin': 829, 'end': 836, 'Entities': 'res_skill'}\n",
      "{'sofa': 1, 'begin': 851, 'end': 864, 'Entities': 'res_skill'}\n",
      "{'sofa': 1, 'begin': 978, 'end': 990, 'Entities': 'res_skill'}\n",
      "{'sofa': 1, 'begin': 1166, 'end': 1168, 'Entities': 'specialization'}\n",
      "{'sofa': 1, 'begin': 1171, 'end': 1178, 'Entities': 'Not annotated'}\n",
      "{'sofa': 1, 'begin': 1193, 'end': 1205, 'Entities': 'qualification'}\n",
      "{'sofa': 1, 'begin': 1193, 'end': 1199, 'Entities': 'edu_level'}\n",
      "{'sofa': 1, 'begin': 1203, 'end': 1205, 'Entities': 'specialization'}\n",
      "{'sofa': 1, 'begin': 1208, 'end': 1215, 'Entities': 'specialization'}\n",
      "{'sofa': 1, 'begin': 1216, 'end': 1226, 'Entities': 'Not annotated'}\n",
      "{'sofa': 1, 'begin': 1229, 'end': 1262, 'Entities': 'qualification'}\n",
      "{'sofa': 1, 'begin': 1229, 'end': 1239, 'Entities': 'edu_level'}\n",
      "{'sofa': 1, 'begin': 1243, 'end': 1262, 'Entities': 'specialization'}\n",
      "{'sofa': 1, 'begin': 1286, 'end': 1289, 'Entities': 'qualification'}\n",
      "{'sofa': 1, 'begin': 1292, 'end': 1296, 'Entities': 'qualification'}\n",
      "{'sofa': 1, 'begin': 1433, 'end': 1454, 'Entities': 'years_experienced'}\n",
      "{'sofa': 1, 'begin': 1433, 'end': 1440, 'Entities': 'no_years'}\n",
      "{'sofa': 1, 'begin': 1574, 'end': 1590, 'Entities': 'res_skill'}\n",
      "{'sofa': 1, 'begin': 1592, 'end': 1610, 'Entities': 'res_skill'}\n",
      "{'sofa': 1, 'begin': 1617, 'end': 1637, 'Entities': 'res_skill'}\n",
      "{'sofa': 1, 'begin': 1641, 'end': 1660, 'Entities': 'res_skill'}\n",
      "{'sofa': 1, 'begin': 1680, 'end': 1699, 'Entities': 'email'}\n",
      ".....................\n",
      "{'sofa': 1, 'begin': 1423, 'end': 1493}\n",
      ".....................\n",
      "{'sofa': 1, 'begin': 24, 'end': 54, 'Entities': 'job_title'}\n",
      "{'sofa': 1, 'begin': 45, 'end': 54, 'Entities': 'title'}\n",
      "{'sofa': 1, 'begin': 71, 'end': 88, 'Entities': 'company'}\n",
      "{'sofa': 1, 'begin': 736, 'end': 747, 'Entities': 'res_skill'}\n",
      "{'sofa': 1, 'begin': 829, 'end': 836, 'Entities': 'res_skill'}\n",
      "{'sofa': 1, 'begin': 851, 'end': 864, 'Entities': 'res_skill'}\n",
      "{'sofa': 1, 'begin': 978, 'end': 990, 'Entities': 'res_skill'}\n",
      "{'sofa': 1, 'begin': 1166, 'end': 1168, 'Entities': 'specialization'}\n",
      "{'sofa': 1, 'begin': 1171, 'end': 1178, 'Entities': 'Not annotated'}\n",
      "{'sofa': 1, 'begin': 1193, 'end': 1205, 'Entities': 'qualification'}\n",
      "{'sofa': 1, 'begin': 1193, 'end': 1199, 'Entities': 'edu_level'}\n",
      "{'sofa': 1, 'begin': 1203, 'end': 1205, 'Entities': 'specialization'}\n",
      "{'sofa': 1, 'begin': 1208, 'end': 1215, 'Entities': 'specialization'}\n",
      "{'sofa': 1, 'begin': 1216, 'end': 1226, 'Entities': 'Not annotated'}\n",
      "{'sofa': 1, 'begin': 1229, 'end': 1262, 'Entities': 'qualification'}\n",
      "{'sofa': 1, 'begin': 1229, 'end': 1239, 'Entities': 'edu_level'}\n",
      "{'sofa': 1, 'begin': 1243, 'end': 1262, 'Entities': 'specialization'}\n",
      "{'sofa': 1, 'begin': 1286, 'end': 1289, 'Entities': 'qualification'}\n",
      "{'sofa': 1, 'begin': 1292, 'end': 1296, 'Entities': 'qualification'}\n",
      "{'sofa': 1, 'begin': 1433, 'end': 1454, 'Entities': 'years_experienced'}\n",
      "{'sofa': 1, 'begin': 1433, 'end': 1440, 'Entities': 'no_years'}\n",
      "{'sofa': 1, 'begin': 1574, 'end': 1590, 'Entities': 'res_skill'}\n",
      "{'sofa': 1, 'begin': 1592, 'end': 1610, 'Entities': 'res_skill'}\n",
      "{'sofa': 1, 'begin': 1617, 'end': 1637, 'Entities': 'res_skill'}\n",
      "{'sofa': 1, 'begin': 1641, 'end': 1660, 'Entities': 'res_skill'}\n",
      "{'sofa': 1, 'begin': 1680, 'end': 1699, 'Entities': 'email'}\n",
      ".....................\n",
      "{'sofa': 1, 'begin': 1495, 'end': 1552}\n",
      ".....................\n",
      "{'sofa': 1, 'begin': 24, 'end': 54, 'Entities': 'job_title'}\n",
      "{'sofa': 1, 'begin': 45, 'end': 54, 'Entities': 'title'}\n",
      "{'sofa': 1, 'begin': 71, 'end': 88, 'Entities': 'company'}\n",
      "{'sofa': 1, 'begin': 736, 'end': 747, 'Entities': 'res_skill'}\n",
      "{'sofa': 1, 'begin': 829, 'end': 836, 'Entities': 'res_skill'}\n",
      "{'sofa': 1, 'begin': 851, 'end': 864, 'Entities': 'res_skill'}\n",
      "{'sofa': 1, 'begin': 978, 'end': 990, 'Entities': 'res_skill'}\n",
      "{'sofa': 1, 'begin': 1166, 'end': 1168, 'Entities': 'specialization'}\n",
      "{'sofa': 1, 'begin': 1171, 'end': 1178, 'Entities': 'Not annotated'}\n",
      "{'sofa': 1, 'begin': 1193, 'end': 1205, 'Entities': 'qualification'}\n",
      "{'sofa': 1, 'begin': 1193, 'end': 1199, 'Entities': 'edu_level'}\n",
      "{'sofa': 1, 'begin': 1203, 'end': 1205, 'Entities': 'specialization'}\n",
      "{'sofa': 1, 'begin': 1208, 'end': 1215, 'Entities': 'specialization'}\n",
      "{'sofa': 1, 'begin': 1216, 'end': 1226, 'Entities': 'Not annotated'}\n",
      "{'sofa': 1, 'begin': 1229, 'end': 1262, 'Entities': 'qualification'}\n",
      "{'sofa': 1, 'begin': 1229, 'end': 1239, 'Entities': 'edu_level'}\n",
      "{'sofa': 1, 'begin': 1243, 'end': 1262, 'Entities': 'specialization'}\n",
      "{'sofa': 1, 'begin': 1286, 'end': 1289, 'Entities': 'qualification'}\n",
      "{'sofa': 1, 'begin': 1292, 'end': 1296, 'Entities': 'qualification'}\n",
      "{'sofa': 1, 'begin': 1433, 'end': 1454, 'Entities': 'years_experienced'}\n",
      "{'sofa': 1, 'begin': 1433, 'end': 1440, 'Entities': 'no_years'}\n",
      "{'sofa': 1, 'begin': 1574, 'end': 1590, 'Entities': 'res_skill'}\n",
      "{'sofa': 1, 'begin': 1592, 'end': 1610, 'Entities': 'res_skill'}\n",
      "{'sofa': 1, 'begin': 1617, 'end': 1637, 'Entities': 'res_skill'}\n",
      "{'sofa': 1, 'begin': 1641, 'end': 1660, 'Entities': 'res_skill'}\n",
      "{'sofa': 1, 'begin': 1680, 'end': 1699, 'Entities': 'email'}\n",
      ".....................\n",
      "{'sofa': 1, 'begin': 1554, 'end': 1661}\n",
      ".....................\n",
      "{'sofa': 1, 'begin': 24, 'end': 54, 'Entities': 'job_title'}\n",
      "{'sofa': 1, 'begin': 45, 'end': 54, 'Entities': 'title'}\n",
      "{'sofa': 1, 'begin': 71, 'end': 88, 'Entities': 'company'}\n",
      "{'sofa': 1, 'begin': 736, 'end': 747, 'Entities': 'res_skill'}\n",
      "{'sofa': 1, 'begin': 829, 'end': 836, 'Entities': 'res_skill'}\n",
      "{'sofa': 1, 'begin': 851, 'end': 864, 'Entities': 'res_skill'}\n",
      "{'sofa': 1, 'begin': 978, 'end': 990, 'Entities': 'res_skill'}\n",
      "{'sofa': 1, 'begin': 1166, 'end': 1168, 'Entities': 'specialization'}\n",
      "{'sofa': 1, 'begin': 1171, 'end': 1178, 'Entities': 'Not annotated'}\n",
      "{'sofa': 1, 'begin': 1193, 'end': 1205, 'Entities': 'qualification'}\n",
      "{'sofa': 1, 'begin': 1193, 'end': 1199, 'Entities': 'edu_level'}\n",
      "{'sofa': 1, 'begin': 1203, 'end': 1205, 'Entities': 'specialization'}\n",
      "{'sofa': 1, 'begin': 1208, 'end': 1215, 'Entities': 'specialization'}\n",
      "{'sofa': 1, 'begin': 1216, 'end': 1226, 'Entities': 'Not annotated'}\n",
      "{'sofa': 1, 'begin': 1229, 'end': 1262, 'Entities': 'qualification'}\n",
      "{'sofa': 1, 'begin': 1229, 'end': 1239, 'Entities': 'edu_level'}\n",
      "{'sofa': 1, 'begin': 1243, 'end': 1262, 'Entities': 'specialization'}\n",
      "{'sofa': 1, 'begin': 1286, 'end': 1289, 'Entities': 'qualification'}\n",
      "{'sofa': 1, 'begin': 1292, 'end': 1296, 'Entities': 'qualification'}\n",
      "{'sofa': 1, 'begin': 1433, 'end': 1454, 'Entities': 'years_experienced'}\n",
      "{'sofa': 1, 'begin': 1433, 'end': 1440, 'Entities': 'no_years'}\n",
      "{'sofa': 1, 'begin': 1574, 'end': 1590, 'Entities': 'res_skill'}\n",
      "{'sofa': 1, 'begin': 1592, 'end': 1610, 'Entities': 'res_skill'}\n",
      "{'sofa': 1, 'begin': 1617, 'end': 1637, 'Entities': 'res_skill'}\n",
      "{'sofa': 1, 'begin': 1641, 'end': 1660, 'Entities': 'res_skill'}\n",
      "{'sofa': 1, 'begin': 1680, 'end': 1699, 'Entities': 'email'}\n",
      ".....................\n",
      "{'sofa': 1, 'begin': 1663, 'end': 1753}\n",
      ".....................\n",
      "{'sofa': 1, 'begin': 24, 'end': 54, 'Entities': 'job_title'}\n",
      "{'sofa': 1, 'begin': 45, 'end': 54, 'Entities': 'title'}\n",
      "{'sofa': 1, 'begin': 71, 'end': 88, 'Entities': 'company'}\n",
      "{'sofa': 1, 'begin': 736, 'end': 747, 'Entities': 'res_skill'}\n",
      "{'sofa': 1, 'begin': 829, 'end': 836, 'Entities': 'res_skill'}\n",
      "{'sofa': 1, 'begin': 851, 'end': 864, 'Entities': 'res_skill'}\n",
      "{'sofa': 1, 'begin': 978, 'end': 990, 'Entities': 'res_skill'}\n",
      "{'sofa': 1, 'begin': 1166, 'end': 1168, 'Entities': 'specialization'}\n",
      "{'sofa': 1, 'begin': 1171, 'end': 1178, 'Entities': 'Not annotated'}\n",
      "{'sofa': 1, 'begin': 1193, 'end': 1205, 'Entities': 'qualification'}\n",
      "{'sofa': 1, 'begin': 1193, 'end': 1199, 'Entities': 'edu_level'}\n",
      "{'sofa': 1, 'begin': 1203, 'end': 1205, 'Entities': 'specialization'}\n",
      "{'sofa': 1, 'begin': 1208, 'end': 1215, 'Entities': 'specialization'}\n",
      "{'sofa': 1, 'begin': 1216, 'end': 1226, 'Entities': 'Not annotated'}\n",
      "{'sofa': 1, 'begin': 1229, 'end': 1262, 'Entities': 'qualification'}\n",
      "{'sofa': 1, 'begin': 1229, 'end': 1239, 'Entities': 'edu_level'}\n",
      "{'sofa': 1, 'begin': 1243, 'end': 1262, 'Entities': 'specialization'}\n",
      "{'sofa': 1, 'begin': 1286, 'end': 1289, 'Entities': 'qualification'}\n",
      "{'sofa': 1, 'begin': 1292, 'end': 1296, 'Entities': 'qualification'}\n",
      "{'sofa': 1, 'begin': 1433, 'end': 1454, 'Entities': 'years_experienced'}\n",
      "{'sofa': 1, 'begin': 1433, 'end': 1440, 'Entities': 'no_years'}\n",
      "{'sofa': 1, 'begin': 1574, 'end': 1590, 'Entities': 'res_skill'}\n",
      "{'sofa': 1, 'begin': 1592, 'end': 1610, 'Entities': 'res_skill'}\n",
      "{'sofa': 1, 'begin': 1617, 'end': 1637, 'Entities': 'res_skill'}\n",
      "{'sofa': 1, 'begin': 1641, 'end': 1660, 'Entities': 'res_skill'}\n",
      "{'sofa': 1, 'begin': 1680, 'end': 1699, 'Entities': 'email'}\n"
     ]
    }
   ],
   "source": [
    "for sl in range(len(Sentence)):\n",
    "    print(\".....................\")\n",
    "    print(Sentence[sl])\n",
    "    ent_list_sen = []\n",
    "    print(\".....................\")\n",
    "    #if 'begin' not in ent_loc[0]:\n",
    "    #    ent_loc[0]['begin'] = 0\n",
    "    for el in range(len(ent_loc)):\n",
    "        print(ent_loc[el])\n",
    "        if(ent_loc[el]['begin'] >= Sentence[sl]['begin'] and ent_loc[el]['end'] <= Sentence[sl]['end']):\n",
    "            ent_list_sen.append([(ent_loc[el]['begin']-Sentence[sl]['begin']),(ent_loc[el]['end']-Sentence[sl]['begin']),ent_loc[el]['Entities']])\n",
    "    ent_list.append(ent_list_sen)\n",
    "    ## Create blank dictionary\n",
    "    ent_dic = {}\n",
    "    ## Fill value to the dictionary\n",
    "    ## Only append where the is an entitiy \n",
    "    if len(ent_list[-1]) != 0:\n",
    "        ent_dic['entities'] = ent_list[-1]\n",
    "        ## Preparing final training data\n",
    "        TRAIN_DATA.append([sentences_list[sl],ent_dic])\n",
    "    #ent_dic['entities'] = ent_list[-1]\n",
    "    ## Prepare final training data\n",
    "    #TRAIN_DATA.append([sentences_list[sl],ent_dic])\n",
    "    \n",
    "    \n",
    "    "
   ]
  },
  {
   "cell_type": "code",
   "execution_count": 49,
   "metadata": {},
   "outputs": [
    {
     "data": {
      "text/plain": [
       "[['BUSINESS DEVELOPMENT EXECUTIVE  ERP SOLUTIONS  Bileeta (PVT) Ltd, is an Award Winning Cloud Based Enterprise Resource Planning  solution (ERP) and eLogistic Supply Chain Management (eLMIS) solution provider  to small, medium to large organizations under the brand name of Entution.',\n",
       "  {'entities': [[0, 30, 'job_title'],\n",
       "    [21, 30, 'title'],\n",
       "    [47, 64, 'company']]}],\n",
       " ['Responsibilities  Researching organizations and individuals to identify new leads and potential new  markets.',\n",
       "  {'entities': [[18, 29, 'res_skill']]}],\n",
       " ['Prepare proposals and presentations.',\n",
       "  {'entities': [[0, 7, 'res_skill'], [22, 35, 'res_skill']]}],\n",
       " ['Meet revenue targets by driving the ERP software sales.',\n",
       "  {'entities': [[0, 12, 'res_skill']]}],\n",
       " ['Personal profile and skills  • Should have a sound educational background in IT & Finance.',\n",
       "  {'entities': [[77, 79, 'specialization'], [82, 89, 'Not annotated']]}],\n",
       " ['Preferably a degree in IT,  finance/accounting.',\n",
       "  {'entities': [[13, 25, 'qualification'],\n",
       "    [13, 19, 'edu_level'],\n",
       "    [23, 25, 'specialization'],\n",
       "    [28, 35, 'specialization'],\n",
       "    [36, 46, 'Not annotated']]}],\n",
       " [\"Bachelor's in Business Management or partly qualified in CIM / SLIM.\",\n",
       "  {'entities': [[0, 33, 'qualification'],\n",
       "    [0, 10, 'edu_level'],\n",
       "    [14, 33, 'specialization'],\n",
       "    [57, 60, 'qualification'],\n",
       "    [63, 67, 'qualification']]}],\n",
       " ['· Minimum 2 years of experience in a similar position in ERP industry.',\n",
       "  {'entities': [[10, 31, 'years_experienced'], [10, 17, 'no_years']]}],\n",
       " ['Possess exceptional marketing skills, negotiation skills, good communication skills &  presentation skills.',\n",
       "  {'entities': [[20, 36, 'res_skill'],\n",
       "    [38, 56, 'res_skill'],\n",
       "    [63, 83, 'res_skill'],\n",
       "    [87, 106, 'res_skill']]}],\n",
       " ['Send your CV to: careers@bileeta.com  with the position applied for in the subject header.',\n",
       "  {'entities': [[17, 36, 'email']]}]]"
      ]
     },
     "execution_count": 49,
     "metadata": {},
     "output_type": "execute_result"
    }
   ],
   "source": [
    "TRAIN_DATA"
   ]
  },
  {
   "cell_type": "code",
   "execution_count": 55,
   "metadata": {},
   "outputs": [
    {
     "data": {
      "text/plain": [
       "['BUSINESS DEVELOPMENT EXECUTIVE  ERP SOLUTIONS  Bileeta (PVT) Ltd, is an Award Winning Cloud Based Enterprise Resource Planning  solution (ERP) and eLogistic Supply Chain Management (eLMIS) solution provider  to small, medium to large organizations under the brand name of Entution.',\n",
       " {'entities': [[0, 30, 'job_title'], [21, 30, 'title'], [47, 64, 'company']]}]"
      ]
     },
     "execution_count": 55,
     "metadata": {},
     "output_type": "execute_result"
    }
   ],
   "source": [
    "TRAIN_DATA[0]"
   ]
  },
  {
   "cell_type": "code",
   "execution_count": 61,
   "metadata": {},
   "outputs": [
    {
     "data": {
      "text/plain": [
       "[0, 30, 'job_title']"
      ]
     },
     "execution_count": 61,
     "metadata": {},
     "output_type": "execute_result"
    }
   ],
   "source": [
    "TRAIN_DATA[0][1]['entities'][0]"
   ]
  },
  {
   "cell_type": "code",
   "execution_count": 57,
   "metadata": {},
   "outputs": [
    {
     "name": "stdout",
     "output_type": "stream",
     "text": [
      "{'entities': [[0, 30, 'job_title'], [21, 30, 'title'], [47, 64, 'company']]}\n",
      "{'entities': [[18, 29, 'res_skill']]}\n",
      "{'entities': [[0, 7, 'res_skill'], [22, 35, 'res_skill']]}\n",
      "{'entities': [[0, 12, 'res_skill']]}\n",
      "{'entities': [[77, 79, 'specialization'], [82, 89, 'Not annotated']]}\n",
      "{'entities': [[13, 25, 'qualification'], [13, 19, 'edu_level'], [23, 25, 'specialization'], [28, 35, 'specialization'], [36, 46, 'Not annotated']]}\n",
      "{'entities': [[0, 33, 'qualification'], [0, 10, 'edu_level'], [14, 33, 'specialization'], [57, 60, 'qualification'], [63, 67, 'qualification']]}\n",
      "{'entities': [[10, 31, 'years_experienced'], [10, 17, 'no_years']]}\n",
      "{'entities': [[20, 36, 'res_skill'], [38, 56, 'res_skill'], [63, 83, 'res_skill'], [87, 106, 'res_skill']]}\n",
      "{'entities': [[17, 36, 'email']]}\n"
     ]
    }
   ],
   "source": [
    "for i in range(10):\n",
    "    print(TRAIN_DATA[i][1])\n",
    "    "
   ]
  },
  {
   "cell_type": "code",
   "execution_count": 90,
   "metadata": {},
   "outputs": [],
   "source": [
    "annotations = {}"
   ]
  },
  {
   "cell_type": "code",
   "execution_count": 91,
   "metadata": {},
   "outputs": [],
   "source": [
    "annotations[\"SO_01_03_03\"] = TRAIN_DATA"
   ]
  },
  {
   "cell_type": "code",
   "execution_count": 92,
   "metadata": {},
   "outputs": [
    {
     "data": {
      "text/plain": [
       "{'SO_01_03_03': [['BUSINESS DEVELOPMENT EXECUTIVE  ERP SOLUTIONS  Bileeta (PVT) Ltd, is an Award Winning Cloud Based Enterprise Resource Planning  solution (ERP) and eLogistic Supply Chain Management (eLMIS) solution provider  to small, medium to large organizations under the brand name of Entution.',\n",
       "   {'entities': [[0, 30, 'job_title'],\n",
       "     [21, 30, 'title'],\n",
       "     [47, 64, 'company']]}],\n",
       "  ['Responsibilities  Researching organizations and individuals to identify new leads and potential new  markets.',\n",
       "   {'entities': [[18, 29, 'res_skill']]}],\n",
       "  ['Prepare proposals and presentations.',\n",
       "   {'entities': [[0, 7, 'res_skill'], [22, 35, 'res_skill']]}],\n",
       "  ['Meet revenue targets by driving the ERP software sales.',\n",
       "   {'entities': [[0, 12, 'res_skill']]}],\n",
       "  ['Personal profile and skills  • Should have a sound educational background in IT & Finance.',\n",
       "   {'entities': [[77, 79, 'specialization'], [82, 89, 'Not annotated']]}],\n",
       "  ['Preferably a degree in IT,  finance/accounting.',\n",
       "   {'entities': [[13, 25, 'qualification'],\n",
       "     [13, 19, 'edu_level'],\n",
       "     [23, 25, 'specialization'],\n",
       "     [28, 35, 'specialization'],\n",
       "     [36, 46, 'Not annotated']]}],\n",
       "  [\"Bachelor's in Business Management or partly qualified in CIM / SLIM.\",\n",
       "   {'entities': [[0, 33, 'qualification'],\n",
       "     [0, 10, 'edu_level'],\n",
       "     [14, 33, 'specialization'],\n",
       "     [57, 60, 'qualification'],\n",
       "     [63, 67, 'qualification']]}],\n",
       "  ['· Minimum 2 years of experience in a similar position in ERP industry.',\n",
       "   {'entities': [[10, 31, 'years_experienced'], [10, 17, 'no_years']]}],\n",
       "  ['Possess exceptional marketing skills, negotiation skills, good communication skills &  presentation skills.',\n",
       "   {'entities': [[20, 36, 'res_skill'],\n",
       "     [38, 56, 'res_skill'],\n",
       "     [63, 83, 'res_skill'],\n",
       "     [87, 106, 'res_skill']]}],\n",
       "  ['Send your CV to: careers@bileeta.com  with the position applied for in the subject header.',\n",
       "   {'entities': [[17, 36, 'email']]}]]}"
      ]
     },
     "execution_count": 92,
     "metadata": {},
     "output_type": "execute_result"
    }
   ],
   "source": [
    "annotations"
   ]
  },
  {
   "cell_type": "code",
   "execution_count": null,
   "metadata": {},
   "outputs": [],
   "source": []
  }
 ],
 "metadata": {
  "kernelspec": {
   "display_name": "Python 3",
   "language": "python",
   "name": "python3"
  },
  "language_info": {
   "codemirror_mode": {
    "name": "ipython",
    "version": 3
   },
   "file_extension": ".py",
   "mimetype": "text/x-python",
   "name": "python",
   "nbconvert_exporter": "python",
   "pygments_lexer": "ipython3",
   "version": "3.7.6"
  }
 },
 "nbformat": 4,
 "nbformat_minor": 4
}
